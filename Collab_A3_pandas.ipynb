{
 "cells": [
  {
   "cell_type": "markdown",
   "metadata": {
    "id": "XJ1mwR5usgHb"
   },
   "source": [
    "## **Working with Python DataFrame**\n",
    "\n",
    "### **Learning outcome:**\n",
    "- To learn to examine tabular raw data with a pandas dataframe\n",
    "- To learn to filter data from a dataframe using index- or label-based selection.\n",
    "\n",
    "\n",
    "####  **Crime Rates Dataset**\n",
    "##### Load the dataset via a URL"
   ]
  },
  {
   "cell_type": "code",
   "execution_count": 6,
   "metadata": {
    "id": "kQ8FudMKsgHd"
   },
   "outputs": [
    {
     "ename": "ModuleNotFoundError",
     "evalue": "No module named 'pandas'",
     "output_type": "error",
     "traceback": [
      "\u001b[1;31m---------------------------------------------------------------------------\u001b[0m",
      "\u001b[1;31mModuleNotFoundError\u001b[0m                       Traceback (most recent call last)",
      "Cell \u001b[1;32mIn[6], line 2\u001b[0m\n\u001b[0;32m      1\u001b[0m \u001b[38;5;66;03m# Importing libraries\u001b[39;00m\n\u001b[1;32m----> 2\u001b[0m \u001b[38;5;28;01mimport\u001b[39;00m \u001b[38;5;21;01mpandas\u001b[39;00m \u001b[38;5;28;01mas\u001b[39;00m \u001b[38;5;21;01mpd\u001b[39;00m\n\u001b[0;32m      3\u001b[0m pd\u001b[38;5;241m.\u001b[39moptions\u001b[38;5;241m.\u001b[39mdisplay\u001b[38;5;241m.\u001b[39mfloat_format \u001b[38;5;241m=\u001b[39m \u001b[38;5;124m\"\u001b[39m\u001b[38;5;132;01m{:,.2f}\u001b[39;00m\u001b[38;5;124m\"\u001b[39m\u001b[38;5;241m.\u001b[39mformat\n",
      "\u001b[1;31mModuleNotFoundError\u001b[0m: No module named 'pandas'"
     ]
    }
   ],
   "source": [
    "# Importing libraries\n",
    "import pandas as pd\n",
    "pd.options.display.float_format = \"{:,.2f}\".format"
   ]
  },
  {
   "cell_type": "code",
   "execution_count": 4,
   "metadata": {
    "id": "QL2iXjmasgHf"
   },
   "outputs": [],
   "source": [
    "# Read in data set and converting it to a pandas dataframe\n",
    "crime_rates = pd.read_csv('https://raw.githubusercontent.com/' +\n",
    "                      'csbfx/advpy122-data/master/crime_rates.csv')"
   ]
  },
  {
   "cell_type": "code",
   "execution_count": 5,
   "metadata": {
    "colab": {
     "base_uri": "https://localhost:8080/",
     "height": 226
    },
    "id": "I6ZDTAt9sgHg",
    "outputId": "033f92ca-85b4-40dc-c936-d6d908219e10"
   },
   "outputs": [
    {
     "data": {
      "text/html": [
       "<div>\n",
       "<style scoped>\n",
       "    .dataframe tbody tr th:only-of-type {\n",
       "        vertical-align: middle;\n",
       "    }\n",
       "\n",
       "    .dataframe tbody tr th {\n",
       "        vertical-align: top;\n",
       "    }\n",
       "\n",
       "    .dataframe thead th {\n",
       "        text-align: right;\n",
       "    }\n",
       "</style>\n",
       "<table border=\"1\" class=\"dataframe\">\n",
       "  <thead>\n",
       "    <tr style=\"text-align: right;\">\n",
       "      <th></th>\n",
       "      <th>State</th>\n",
       "      <th>Year</th>\n",
       "      <th>Population</th>\n",
       "      <th>Violent Crime Rate</th>\n",
       "      <th>Murder Rate</th>\n",
       "      <th>Forcible Rape Rate</th>\n",
       "      <th>Robbery Rate</th>\n",
       "      <th>Aggraveted Assault Rate</th>\n",
       "      <th>Property Crime Rate</th>\n",
       "      <th>Burglary Rate</th>\n",
       "      <th>Larceny &amp; Theft Rate</th>\n",
       "      <th>Motor Vehicle Theft Rate</th>\n",
       "    </tr>\n",
       "  </thead>\n",
       "  <tbody>\n",
       "    <tr>\n",
       "      <th>0</th>\n",
       "      <td>Alaska</td>\n",
       "      <td>1960</td>\n",
       "      <td>226167</td>\n",
       "      <td>104.30</td>\n",
       "      <td>10.20</td>\n",
       "      <td>20.80</td>\n",
       "      <td>28.30</td>\n",
       "      <td>45.10</td>\n",
       "      <td>1,544.90</td>\n",
       "      <td>332.10</td>\n",
       "      <td>970.50</td>\n",
       "      <td>242.30</td>\n",
       "    </tr>\n",
       "    <tr>\n",
       "      <th>1</th>\n",
       "      <td>Alaska</td>\n",
       "      <td>1961</td>\n",
       "      <td>234000</td>\n",
       "      <td>88.90</td>\n",
       "      <td>11.50</td>\n",
       "      <td>13.20</td>\n",
       "      <td>12.40</td>\n",
       "      <td>51.70</td>\n",
       "      <td>1,540.60</td>\n",
       "      <td>380.80</td>\n",
       "      <td>950.00</td>\n",
       "      <td>209.80</td>\n",
       "    </tr>\n",
       "    <tr>\n",
       "      <th>2</th>\n",
       "      <td>Alaska</td>\n",
       "      <td>1962</td>\n",
       "      <td>246000</td>\n",
       "      <td>91.50</td>\n",
       "      <td>4.50</td>\n",
       "      <td>18.70</td>\n",
       "      <td>13.80</td>\n",
       "      <td>54.50</td>\n",
       "      <td>1,564.60</td>\n",
       "      <td>351.60</td>\n",
       "      <td>985.40</td>\n",
       "      <td>227.60</td>\n",
       "    </tr>\n",
       "    <tr>\n",
       "      <th>3</th>\n",
       "      <td>Alaska</td>\n",
       "      <td>1963</td>\n",
       "      <td>248000</td>\n",
       "      <td>109.70</td>\n",
       "      <td>6.50</td>\n",
       "      <td>14.90</td>\n",
       "      <td>22.20</td>\n",
       "      <td>66.10</td>\n",
       "      <td>1,952.80</td>\n",
       "      <td>381.50</td>\n",
       "      <td>1,213.70</td>\n",
       "      <td>357.70</td>\n",
       "    </tr>\n",
       "    <tr>\n",
       "      <th>4</th>\n",
       "      <td>Alaska</td>\n",
       "      <td>1964</td>\n",
       "      <td>250000</td>\n",
       "      <td>150.00</td>\n",
       "      <td>10.40</td>\n",
       "      <td>22.40</td>\n",
       "      <td>21.20</td>\n",
       "      <td>96.00</td>\n",
       "      <td>2,016.00</td>\n",
       "      <td>443.60</td>\n",
       "      <td>1,218.40</td>\n",
       "      <td>354.00</td>\n",
       "    </tr>\n",
       "  </tbody>\n",
       "</table>\n",
       "</div>"
      ],
      "text/plain": [
       "    State  Year  Population  Violent Crime Rate  Murder Rate  \\\n",
       "0  Alaska  1960      226167              104.30        10.20   \n",
       "1  Alaska  1961      234000               88.90        11.50   \n",
       "2  Alaska  1962      246000               91.50         4.50   \n",
       "3  Alaska  1963      248000              109.70         6.50   \n",
       "4  Alaska  1964      250000              150.00        10.40   \n",
       "\n",
       "   Forcible Rape Rate  Robbery Rate  Aggraveted Assault Rate  \\\n",
       "0               20.80         28.30                    45.10   \n",
       "1               13.20         12.40                    51.70   \n",
       "2               18.70         13.80                    54.50   \n",
       "3               14.90         22.20                    66.10   \n",
       "4               22.40         21.20                    96.00   \n",
       "\n",
       "   Property Crime Rate  Burglary Rate  Larceny & Theft Rate  \\\n",
       "0             1,544.90         332.10                970.50   \n",
       "1             1,540.60         380.80                950.00   \n",
       "2             1,564.60         351.60                985.40   \n",
       "3             1,952.80         381.50              1,213.70   \n",
       "4             2,016.00         443.60              1,218.40   \n",
       "\n",
       "   Motor Vehicle Theft Rate  \n",
       "0                    242.30  \n",
       "1                    209.80  \n",
       "2                    227.60  \n",
       "3                    357.70  \n",
       "4                    354.00  "
      ]
     },
     "execution_count": 5,
     "metadata": {},
     "output_type": "execute_result"
    }
   ],
   "source": [
    "# Let's take a look at the dataframe using head()\n",
    "crime_rates.head()"
   ]
  },
  {
   "cell_type": "code",
   "execution_count": 6,
   "metadata": {
    "colab": {
     "base_uri": "https://localhost:8080/"
    },
    "id": "y0MALWLvsgHh",
    "outputId": "8dc5e9c4-9712-46bf-f39e-b8a9099d4c99"
   },
   "outputs": [
    {
     "name": "stdout",
     "output_type": "stream",
     "text": [
      "<class 'pandas.core.frame.DataFrame'>\n",
      "RangeIndex: 2200 entries, 0 to 2199\n",
      "Data columns (total 12 columns):\n",
      " #   Column                    Non-Null Count  Dtype  \n",
      "---  ------                    --------------  -----  \n",
      " 0   State                     2200 non-null   object \n",
      " 1   Year                      2200 non-null   int64  \n",
      " 2   Population                2200 non-null   int64  \n",
      " 3   Violent Crime Rate        2200 non-null   float64\n",
      " 4   Murder Rate               2200 non-null   float64\n",
      " 5   Forcible Rape Rate        2200 non-null   float64\n",
      " 6   Robbery Rate              2200 non-null   float64\n",
      " 7   Aggraveted Assault Rate   2200 non-null   float64\n",
      " 8   Property Crime Rate       2200 non-null   float64\n",
      " 9   Burglary Rate             2200 non-null   float64\n",
      " 10  Larceny & Theft Rate      2200 non-null   float64\n",
      " 11  Motor Vehicle Theft Rate  2200 non-null   float64\n",
      "dtypes: float64(9), int64(2), object(1)\n",
      "memory usage: 206.4+ KB\n"
     ]
    }
   ],
   "source": [
    "# Get a description of the dataframe\n",
    "crime_rates.info()"
   ]
  },
  {
   "cell_type": "code",
   "execution_count": 7,
   "metadata": {
    "id": "MXIu_ZPmsgHi"
   },
   "outputs": [],
   "source": [
    "# Customize the dataframe using our column names.\n",
    "# There is another way to do this where you can assign the column name to a list first. See if you can try both ways\n",
    "crime_rates.columns = ['state', 'year', 'pop', 'violent', 'murder',\n",
    "                       'rape', 'robbery', 'assault', 'property',\n",
    "                       'burglary', 'larceny','vehicle']"
   ]
  },
  {
   "cell_type": "code",
   "execution_count": 8,
   "metadata": {
    "colab": {
     "base_uri": "https://localhost:8080/",
     "height": 164
    },
    "id": "eYtR6YMgsgHj",
    "outputId": "8d4d3426-4734-45c6-987b-2e9e1a1fc973"
   },
   "outputs": [
    {
     "data": {
      "text/html": [
       "<div>\n",
       "<style scoped>\n",
       "    .dataframe tbody tr th:only-of-type {\n",
       "        vertical-align: middle;\n",
       "    }\n",
       "\n",
       "    .dataframe tbody tr th {\n",
       "        vertical-align: top;\n",
       "    }\n",
       "\n",
       "    .dataframe thead th {\n",
       "        text-align: right;\n",
       "    }\n",
       "</style>\n",
       "<table border=\"1\" class=\"dataframe\">\n",
       "  <thead>\n",
       "    <tr style=\"text-align: right;\">\n",
       "      <th></th>\n",
       "      <th>state</th>\n",
       "      <th>year</th>\n",
       "      <th>pop</th>\n",
       "      <th>violent</th>\n",
       "      <th>murder</th>\n",
       "      <th>rape</th>\n",
       "      <th>robbery</th>\n",
       "      <th>assault</th>\n",
       "      <th>property</th>\n",
       "      <th>burglary</th>\n",
       "      <th>larceny</th>\n",
       "      <th>vehicle</th>\n",
       "    </tr>\n",
       "  </thead>\n",
       "  <tbody>\n",
       "    <tr>\n",
       "      <th>0</th>\n",
       "      <td>Alaska</td>\n",
       "      <td>1960</td>\n",
       "      <td>226167</td>\n",
       "      <td>104.30</td>\n",
       "      <td>10.20</td>\n",
       "      <td>20.80</td>\n",
       "      <td>28.30</td>\n",
       "      <td>45.10</td>\n",
       "      <td>1,544.90</td>\n",
       "      <td>332.10</td>\n",
       "      <td>970.50</td>\n",
       "      <td>242.30</td>\n",
       "    </tr>\n",
       "    <tr>\n",
       "      <th>1</th>\n",
       "      <td>Alaska</td>\n",
       "      <td>1961</td>\n",
       "      <td>234000</td>\n",
       "      <td>88.90</td>\n",
       "      <td>11.50</td>\n",
       "      <td>13.20</td>\n",
       "      <td>12.40</td>\n",
       "      <td>51.70</td>\n",
       "      <td>1,540.60</td>\n",
       "      <td>380.80</td>\n",
       "      <td>950.00</td>\n",
       "      <td>209.80</td>\n",
       "    </tr>\n",
       "    <tr>\n",
       "      <th>2</th>\n",
       "      <td>Alaska</td>\n",
       "      <td>1962</td>\n",
       "      <td>246000</td>\n",
       "      <td>91.50</td>\n",
       "      <td>4.50</td>\n",
       "      <td>18.70</td>\n",
       "      <td>13.80</td>\n",
       "      <td>54.50</td>\n",
       "      <td>1,564.60</td>\n",
       "      <td>351.60</td>\n",
       "      <td>985.40</td>\n",
       "      <td>227.60</td>\n",
       "    </tr>\n",
       "  </tbody>\n",
       "</table>\n",
       "</div>"
      ],
      "text/plain": [
       "    state  year     pop  violent  murder  rape  robbery  assault  property  \\\n",
       "0  Alaska  1960  226167   104.30   10.20 20.80    28.30    45.10  1,544.90   \n",
       "1  Alaska  1961  234000    88.90   11.50 13.20    12.40    51.70  1,540.60   \n",
       "2  Alaska  1962  246000    91.50    4.50 18.70    13.80    54.50  1,564.60   \n",
       "\n",
       "   burglary  larceny  vehicle  \n",
       "0    332.10   970.50   242.30  \n",
       "1    380.80   950.00   209.80  \n",
       "2    351.60   985.40   227.60  "
      ]
     },
     "execution_count": 8,
     "metadata": {},
     "output_type": "execute_result"
    }
   ],
   "source": [
    "# Let's look at our dataframe again\n",
    "crime_rates.head(3)"
   ]
  },
  {
   "cell_type": "markdown",
   "metadata": {
    "id": "-xSZ68wesgHj"
   },
   "source": [
    "## Select data from DataFrame\n",
    "You can select rows with sepcific column value that you specify"
   ]
  },
  {
   "cell_type": "code",
   "execution_count": 9,
   "metadata": {
    "colab": {
     "base_uri": "https://localhost:8080/",
     "height": 226
    },
    "id": "XSB-FG7isgHk",
    "outputId": "520c27d4-d13b-41c3-d42e-6fb52e899a00"
   },
   "outputs": [
    {
     "data": {
      "text/html": [
       "<div>\n",
       "<style scoped>\n",
       "    .dataframe tbody tr th:only-of-type {\n",
       "        vertical-align: middle;\n",
       "    }\n",
       "\n",
       "    .dataframe tbody tr th {\n",
       "        vertical-align: top;\n",
       "    }\n",
       "\n",
       "    .dataframe thead th {\n",
       "        text-align: right;\n",
       "    }\n",
       "</style>\n",
       "<table border=\"1\" class=\"dataframe\">\n",
       "  <thead>\n",
       "    <tr style=\"text-align: right;\">\n",
       "      <th></th>\n",
       "      <th>state</th>\n",
       "      <th>year</th>\n",
       "      <th>pop</th>\n",
       "      <th>violent</th>\n",
       "      <th>murder</th>\n",
       "      <th>rape</th>\n",
       "      <th>robbery</th>\n",
       "      <th>assault</th>\n",
       "      <th>property</th>\n",
       "      <th>burglary</th>\n",
       "      <th>larceny</th>\n",
       "      <th>vehicle</th>\n",
       "    </tr>\n",
       "  </thead>\n",
       "  <tbody>\n",
       "    <tr>\n",
       "      <th>0</th>\n",
       "      <td>Alaska</td>\n",
       "      <td>1960</td>\n",
       "      <td>226167</td>\n",
       "      <td>104.30</td>\n",
       "      <td>10.20</td>\n",
       "      <td>20.80</td>\n",
       "      <td>28.30</td>\n",
       "      <td>45.10</td>\n",
       "      <td>1,544.90</td>\n",
       "      <td>332.10</td>\n",
       "      <td>970.50</td>\n",
       "      <td>242.30</td>\n",
       "    </tr>\n",
       "    <tr>\n",
       "      <th>1</th>\n",
       "      <td>Alaska</td>\n",
       "      <td>1961</td>\n",
       "      <td>234000</td>\n",
       "      <td>88.90</td>\n",
       "      <td>11.50</td>\n",
       "      <td>13.20</td>\n",
       "      <td>12.40</td>\n",
       "      <td>51.70</td>\n",
       "      <td>1,540.60</td>\n",
       "      <td>380.80</td>\n",
       "      <td>950.00</td>\n",
       "      <td>209.80</td>\n",
       "    </tr>\n",
       "    <tr>\n",
       "      <th>2</th>\n",
       "      <td>Alaska</td>\n",
       "      <td>1962</td>\n",
       "      <td>246000</td>\n",
       "      <td>91.50</td>\n",
       "      <td>4.50</td>\n",
       "      <td>18.70</td>\n",
       "      <td>13.80</td>\n",
       "      <td>54.50</td>\n",
       "      <td>1,564.60</td>\n",
       "      <td>351.60</td>\n",
       "      <td>985.40</td>\n",
       "      <td>227.60</td>\n",
       "    </tr>\n",
       "    <tr>\n",
       "      <th>3</th>\n",
       "      <td>Alaska</td>\n",
       "      <td>1963</td>\n",
       "      <td>248000</td>\n",
       "      <td>109.70</td>\n",
       "      <td>6.50</td>\n",
       "      <td>14.90</td>\n",
       "      <td>22.20</td>\n",
       "      <td>66.10</td>\n",
       "      <td>1,952.80</td>\n",
       "      <td>381.50</td>\n",
       "      <td>1,213.70</td>\n",
       "      <td>357.70</td>\n",
       "    </tr>\n",
       "    <tr>\n",
       "      <th>4</th>\n",
       "      <td>Alaska</td>\n",
       "      <td>1964</td>\n",
       "      <td>250000</td>\n",
       "      <td>150.00</td>\n",
       "      <td>10.40</td>\n",
       "      <td>22.40</td>\n",
       "      <td>21.20</td>\n",
       "      <td>96.00</td>\n",
       "      <td>2,016.00</td>\n",
       "      <td>443.60</td>\n",
       "      <td>1,218.40</td>\n",
       "      <td>354.00</td>\n",
       "    </tr>\n",
       "  </tbody>\n",
       "</table>\n",
       "</div>"
      ],
      "text/plain": [
       "    state  year     pop  violent  murder  rape  robbery  assault  property  \\\n",
       "0  Alaska  1960  226167   104.30   10.20 20.80    28.30    45.10  1,544.90   \n",
       "1  Alaska  1961  234000    88.90   11.50 13.20    12.40    51.70  1,540.60   \n",
       "2  Alaska  1962  246000    91.50    4.50 18.70    13.80    54.50  1,564.60   \n",
       "3  Alaska  1963  248000   109.70    6.50 14.90    22.20    66.10  1,952.80   \n",
       "4  Alaska  1964  250000   150.00   10.40 22.40    21.20    96.00  2,016.00   \n",
       "\n",
       "   burglary  larceny  vehicle  \n",
       "0    332.10   970.50   242.30  \n",
       "1    380.80   950.00   209.80  \n",
       "2    351.60   985.40   227.60  \n",
       "3    381.50 1,213.70   357.70  \n",
       "4    443.60 1,218.40   354.00  "
      ]
     },
     "execution_count": 9,
     "metadata": {},
     "output_type": "execute_result"
    }
   ],
   "source": [
    "alaska_crimes = crime_rates[crime_rates['state']=='Alaska']\n",
    "alaska_crimes.head(5)"
   ]
  },
  {
   "cell_type": "markdown",
   "metadata": {
    "id": "yC0_J935sgHk"
   },
   "source": [
    "### Indexing in pandas\n",
    "The indexing operator and attribute selection are nice because they work just like they do in the rest of the Python ecosystem. As a novice, this makes them easy to pick up and use. However, pandas has its own accessor operators, `iloc` and `loc`. For more advanced operations, these are the ones you're supposed to be using.\n",
    "\n",
    "#### Index-based selection\n",
    "Pandas indexing works in one of two paradigms. The first is index-based selection: selecting data based on its numerical position in the data.`iloc` follows this paradigm.\n",
    "\n",
    "To select the first row of data in a DataFrame, we may use the following:"
   ]
  },
  {
   "cell_type": "code",
   "execution_count": 10,
   "metadata": {
    "colab": {
     "base_uri": "https://localhost:8080/",
     "height": 481
    },
    "id": "HFZ1l0dfsgHk",
    "outputId": "f9e505b1-4a5d-4579-ede0-2de60a4e87f4"
   },
   "outputs": [
    {
     "data": {
      "text/plain": [
       "state        Alaska\n",
       "year           1960\n",
       "pop          226167\n",
       "violent      104.30\n",
       "murder        10.20\n",
       "rape          20.80\n",
       "robbery       28.30\n",
       "assault       45.10\n",
       "property   1,544.90\n",
       "burglary     332.10\n",
       "larceny      970.50\n",
       "vehicle      242.30\n",
       "Name: 0, dtype: object"
      ]
     },
     "execution_count": 10,
     "metadata": {},
     "output_type": "execute_result"
    }
   ],
   "source": [
    "crime_rates.iloc[0] # first row"
   ]
  },
  {
   "cell_type": "code",
   "execution_count": 11,
   "metadata": {
    "colab": {
     "base_uri": "https://localhost:8080/",
     "height": 383
    },
    "id": "UDTMa0pksmMm",
    "outputId": "fcac1ed3-0f73-49a5-cf18-8c1d194b0fb8"
   },
   "outputs": [
    {
     "data": {
      "text/html": [
       "<div>\n",
       "<style scoped>\n",
       "    .dataframe tbody tr th:only-of-type {\n",
       "        vertical-align: middle;\n",
       "    }\n",
       "\n",
       "    .dataframe tbody tr th {\n",
       "        vertical-align: top;\n",
       "    }\n",
       "\n",
       "    .dataframe thead th {\n",
       "        text-align: right;\n",
       "    }\n",
       "</style>\n",
       "<table border=\"1\" class=\"dataframe\">\n",
       "  <thead>\n",
       "    <tr style=\"text-align: right;\">\n",
       "      <th></th>\n",
       "      <th>violent</th>\n",
       "      <th>murder</th>\n",
       "      <th>rape</th>\n",
       "      <th>robbery</th>\n",
       "      <th>assault</th>\n",
       "    </tr>\n",
       "  </thead>\n",
       "  <tbody>\n",
       "    <tr>\n",
       "      <th>0</th>\n",
       "      <td>104.30</td>\n",
       "      <td>10.20</td>\n",
       "      <td>20.80</td>\n",
       "      <td>28.30</td>\n",
       "      <td>45.10</td>\n",
       "    </tr>\n",
       "    <tr>\n",
       "      <th>2</th>\n",
       "      <td>91.50</td>\n",
       "      <td>4.50</td>\n",
       "      <td>18.70</td>\n",
       "      <td>13.80</td>\n",
       "      <td>54.50</td>\n",
       "    </tr>\n",
       "    <tr>\n",
       "      <th>4</th>\n",
       "      <td>150.00</td>\n",
       "      <td>10.40</td>\n",
       "      <td>22.40</td>\n",
       "      <td>21.20</td>\n",
       "      <td>96.00</td>\n",
       "    </tr>\n",
       "    <tr>\n",
       "      <th>6</th>\n",
       "      <td>150.40</td>\n",
       "      <td>12.90</td>\n",
       "      <td>19.50</td>\n",
       "      <td>36.00</td>\n",
       "      <td>82.00</td>\n",
       "    </tr>\n",
       "    <tr>\n",
       "      <th>8</th>\n",
       "      <td>175.50</td>\n",
       "      <td>10.50</td>\n",
       "      <td>21.70</td>\n",
       "      <td>52.70</td>\n",
       "      <td>90.60</td>\n",
       "    </tr>\n",
       "    <tr>\n",
       "      <th>10</th>\n",
       "      <td>278.00</td>\n",
       "      <td>12.20</td>\n",
       "      <td>26.10</td>\n",
       "      <td>71.80</td>\n",
       "      <td>167.80</td>\n",
       "    </tr>\n",
       "    <tr>\n",
       "      <th>12</th>\n",
       "      <td>370.50</td>\n",
       "      <td>9.50</td>\n",
       "      <td>41.80</td>\n",
       "      <td>66.50</td>\n",
       "      <td>252.60</td>\n",
       "    </tr>\n",
       "    <tr>\n",
       "      <th>14</th>\n",
       "      <td>453.10</td>\n",
       "      <td>13.60</td>\n",
       "      <td>49.30</td>\n",
       "      <td>88.40</td>\n",
       "      <td>301.80</td>\n",
       "    </tr>\n",
       "    <tr>\n",
       "      <th>16</th>\n",
       "      <td>540.10</td>\n",
       "      <td>11.30</td>\n",
       "      <td>46.90</td>\n",
       "      <td>124.90</td>\n",
       "      <td>357.10</td>\n",
       "    </tr>\n",
       "    <tr>\n",
       "      <th>18</th>\n",
       "      <td>441.90</td>\n",
       "      <td>12.90</td>\n",
       "      <td>55.60</td>\n",
       "      <td>91.30</td>\n",
       "      <td>282.10</td>\n",
       "    </tr>\n",
       "  </tbody>\n",
       "</table>\n",
       "</div>"
      ],
      "text/plain": [
       "    violent  murder  rape  robbery  assault\n",
       "0    104.30   10.20 20.80    28.30    45.10\n",
       "2     91.50    4.50 18.70    13.80    54.50\n",
       "4    150.00   10.40 22.40    21.20    96.00\n",
       "6    150.40   12.90 19.50    36.00    82.00\n",
       "8    175.50   10.50 21.70    52.70    90.60\n",
       "10   278.00   12.20 26.10    71.80   167.80\n",
       "12   370.50    9.50 41.80    66.50   252.60\n",
       "14   453.10   13.60 49.30    88.40   301.80\n",
       "16   540.10   11.30 46.90   124.90   357.10\n",
       "18   441.90   12.90 55.60    91.30   282.10"
      ]
     },
     "execution_count": 11,
     "metadata": {},
     "output_type": "execute_result"
    }
   ],
   "source": [
    "''' Python index\n",
    "[start:stop:skip] # stop is exclusive [1:3] --> index 1 & 2.\n",
    "[1::2, :] # from the 2nd row all the way to the end every other row, and all the columns\n",
    "[:, :3] # all rows, from the beginning to the 3rd column (0, 1, 2)\n",
    "'''\n",
    "\n",
    "crime_rates.iloc[:20:2, 3:8]"
   ]
  },
  {
   "cell_type": "markdown",
   "metadata": {
    "id": "7dq4vHjjsgHl"
   },
   "source": [
    "Both `loc` and `iloc` are row-first, column-second. This is the opposite of what we do in native Python, which is column-first, row-second.\n",
    "\n",
    "This means that it's marginally easier to retrieve rows, and marginally harder to get retrieve columns. To get a column with `iloc`, we can do the following:"
   ]
  },
  {
   "cell_type": "code",
   "execution_count": 12,
   "metadata": {
    "colab": {
     "base_uri": "https://localhost:8080/",
     "height": 479
    },
    "id": "9D45Nl1LsgHl",
    "outputId": "02b50971-2cba-46bf-aee3-58919387d216"
   },
   "outputs": [
    {
     "data": {
      "text/plain": [
       "0        Alaska\n",
       "1        Alaska\n",
       "2        Alaska\n",
       "3        Alaska\n",
       "4        Alaska\n",
       "         ...   \n",
       "2195    Wyoming\n",
       "2196    Wyoming\n",
       "2197    Wyoming\n",
       "2198    Wyoming\n",
       "2199    Wyoming\n",
       "Name: state, Length: 2200, dtype: object"
      ]
     },
     "execution_count": 12,
     "metadata": {},
     "output_type": "execute_result"
    }
   ],
   "source": [
    "crime_rates.iloc[:, 0] # all rows, first column"
   ]
  },
  {
   "cell_type": "markdown",
   "metadata": {
    "id": "BWIePPOrsgHl"
   },
   "source": [
    "On its own, the `:` operator, which also comes from native Python, means \"everything\". When combined with other selectors, however, it can be used to indicate a range of values. For example, to select the country column from just the first, second, and third row, we would do:"
   ]
  },
  {
   "cell_type": "code",
   "execution_count": 13,
   "metadata": {
    "colab": {
     "base_uri": "https://localhost:8080/",
     "height": 226
    },
    "id": "mkvXbX9PsgHm",
    "outputId": "76d260ab-b019-4ef2-f98a-1837400a6c4f"
   },
   "outputs": [
    {
     "data": {
      "text/html": [
       "<div>\n",
       "<style scoped>\n",
       "    .dataframe tbody tr th:only-of-type {\n",
       "        vertical-align: middle;\n",
       "    }\n",
       "\n",
       "    .dataframe tbody tr th {\n",
       "        vertical-align: top;\n",
       "    }\n",
       "\n",
       "    .dataframe thead th {\n",
       "        text-align: right;\n",
       "    }\n",
       "</style>\n",
       "<table border=\"1\" class=\"dataframe\">\n",
       "  <thead>\n",
       "    <tr style=\"text-align: right;\">\n",
       "      <th></th>\n",
       "      <th>violent</th>\n",
       "      <th>murder</th>\n",
       "      <th>rape</th>\n",
       "      <th>robbery</th>\n",
       "      <th>assault</th>\n",
       "      <th>property</th>\n",
       "      <th>burglary</th>\n",
       "      <th>larceny</th>\n",
       "      <th>vehicle</th>\n",
       "    </tr>\n",
       "  </thead>\n",
       "  <tbody>\n",
       "    <tr>\n",
       "      <th>0</th>\n",
       "      <td>104.30</td>\n",
       "      <td>10.20</td>\n",
       "      <td>20.80</td>\n",
       "      <td>28.30</td>\n",
       "      <td>45.10</td>\n",
       "      <td>1,544.90</td>\n",
       "      <td>332.10</td>\n",
       "      <td>970.50</td>\n",
       "      <td>242.30</td>\n",
       "    </tr>\n",
       "    <tr>\n",
       "      <th>1</th>\n",
       "      <td>88.90</td>\n",
       "      <td>11.50</td>\n",
       "      <td>13.20</td>\n",
       "      <td>12.40</td>\n",
       "      <td>51.70</td>\n",
       "      <td>1,540.60</td>\n",
       "      <td>380.80</td>\n",
       "      <td>950.00</td>\n",
       "      <td>209.80</td>\n",
       "    </tr>\n",
       "    <tr>\n",
       "      <th>2</th>\n",
       "      <td>91.50</td>\n",
       "      <td>4.50</td>\n",
       "      <td>18.70</td>\n",
       "      <td>13.80</td>\n",
       "      <td>54.50</td>\n",
       "      <td>1,564.60</td>\n",
       "      <td>351.60</td>\n",
       "      <td>985.40</td>\n",
       "      <td>227.60</td>\n",
       "    </tr>\n",
       "    <tr>\n",
       "      <th>3</th>\n",
       "      <td>109.70</td>\n",
       "      <td>6.50</td>\n",
       "      <td>14.90</td>\n",
       "      <td>22.20</td>\n",
       "      <td>66.10</td>\n",
       "      <td>1,952.80</td>\n",
       "      <td>381.50</td>\n",
       "      <td>1,213.70</td>\n",
       "      <td>357.70</td>\n",
       "    </tr>\n",
       "    <tr>\n",
       "      <th>4</th>\n",
       "      <td>150.00</td>\n",
       "      <td>10.40</td>\n",
       "      <td>22.40</td>\n",
       "      <td>21.20</td>\n",
       "      <td>96.00</td>\n",
       "      <td>2,016.00</td>\n",
       "      <td>443.60</td>\n",
       "      <td>1,218.40</td>\n",
       "      <td>354.00</td>\n",
       "    </tr>\n",
       "  </tbody>\n",
       "</table>\n",
       "</div>"
      ],
      "text/plain": [
       "   violent  murder  rape  robbery  assault  property  burglary  larceny  \\\n",
       "0   104.30   10.20 20.80    28.30    45.10  1,544.90    332.10   970.50   \n",
       "1    88.90   11.50 13.20    12.40    51.70  1,540.60    380.80   950.00   \n",
       "2    91.50    4.50 18.70    13.80    54.50  1,564.60    351.60   985.40   \n",
       "3   109.70    6.50 14.90    22.20    66.10  1,952.80    381.50 1,213.70   \n",
       "4   150.00   10.40 22.40    21.20    96.00  2,016.00    443.60 1,218.40   \n",
       "\n",
       "   vehicle  \n",
       "0   242.30  \n",
       "1   209.80  \n",
       "2   227.60  \n",
       "3   357.70  \n",
       "4   354.00  "
      ]
     },
     "execution_count": 13,
     "metadata": {},
     "output_type": "execute_result"
    }
   ],
   "source": [
    "crime_rates.iloc[:5, 3:]"
   ]
  },
  {
   "cell_type": "markdown",
   "metadata": {
    "id": "Ufrn12I6sgHm"
   },
   "source": [
    "#### Label-based selection\n",
    "The second paradigm for attribute selection is the one followed by the loc operator: label-based selection. In this paradigm, it's the data index value, not its position, which matters."
   ]
  },
  {
   "cell_type": "code",
   "execution_count": 14,
   "metadata": {
    "colab": {
     "base_uri": "https://localhost:8080/",
     "height": 444
    },
    "id": "G5r7Wy7ZsgHm",
    "outputId": "2471b319-7bd8-4b15-b9e9-7357541f4741"
   },
   "outputs": [
    {
     "data": {
      "text/html": [
       "<div>\n",
       "<style scoped>\n",
       "    .dataframe tbody tr th:only-of-type {\n",
       "        vertical-align: middle;\n",
       "    }\n",
       "\n",
       "    .dataframe tbody tr th {\n",
       "        vertical-align: top;\n",
       "    }\n",
       "\n",
       "    .dataframe thead th {\n",
       "        text-align: right;\n",
       "    }\n",
       "</style>\n",
       "<table border=\"1\" class=\"dataframe\">\n",
       "  <thead>\n",
       "    <tr style=\"text-align: right;\">\n",
       "      <th></th>\n",
       "      <th>year</th>\n",
       "      <th>state</th>\n",
       "      <th>pop</th>\n",
       "    </tr>\n",
       "  </thead>\n",
       "  <tbody>\n",
       "    <tr>\n",
       "      <th>0</th>\n",
       "      <td>1960</td>\n",
       "      <td>Alaska</td>\n",
       "      <td>226167</td>\n",
       "    </tr>\n",
       "    <tr>\n",
       "      <th>1</th>\n",
       "      <td>1961</td>\n",
       "      <td>Alaska</td>\n",
       "      <td>234000</td>\n",
       "    </tr>\n",
       "    <tr>\n",
       "      <th>2</th>\n",
       "      <td>1962</td>\n",
       "      <td>Alaska</td>\n",
       "      <td>246000</td>\n",
       "    </tr>\n",
       "    <tr>\n",
       "      <th>3</th>\n",
       "      <td>1963</td>\n",
       "      <td>Alaska</td>\n",
       "      <td>248000</td>\n",
       "    </tr>\n",
       "    <tr>\n",
       "      <th>4</th>\n",
       "      <td>1964</td>\n",
       "      <td>Alaska</td>\n",
       "      <td>250000</td>\n",
       "    </tr>\n",
       "    <tr>\n",
       "      <th>...</th>\n",
       "      <td>...</td>\n",
       "      <td>...</td>\n",
       "      <td>...</td>\n",
       "    </tr>\n",
       "    <tr>\n",
       "      <th>2195</th>\n",
       "      <td>1999</td>\n",
       "      <td>Wyoming</td>\n",
       "      <td>480000</td>\n",
       "    </tr>\n",
       "    <tr>\n",
       "      <th>2196</th>\n",
       "      <td>2000</td>\n",
       "      <td>Wyoming</td>\n",
       "      <td>493782</td>\n",
       "    </tr>\n",
       "    <tr>\n",
       "      <th>2197</th>\n",
       "      <td>2001</td>\n",
       "      <td>Wyoming</td>\n",
       "      <td>494423</td>\n",
       "    </tr>\n",
       "    <tr>\n",
       "      <th>2198</th>\n",
       "      <td>2002</td>\n",
       "      <td>Wyoming</td>\n",
       "      <td>498830</td>\n",
       "    </tr>\n",
       "    <tr>\n",
       "      <th>2199</th>\n",
       "      <td>2003</td>\n",
       "      <td>Wyoming</td>\n",
       "      <td>501242</td>\n",
       "    </tr>\n",
       "  </tbody>\n",
       "</table>\n",
       "<p>2200 rows × 3 columns</p>\n",
       "</div>"
      ],
      "text/plain": [
       "      year    state     pop\n",
       "0     1960   Alaska  226167\n",
       "1     1961   Alaska  234000\n",
       "2     1962   Alaska  246000\n",
       "3     1963   Alaska  248000\n",
       "4     1964   Alaska  250000\n",
       "...    ...      ...     ...\n",
       "2195  1999  Wyoming  480000\n",
       "2196  2000  Wyoming  493782\n",
       "2197  2001  Wyoming  494423\n",
       "2198  2002  Wyoming  498830\n",
       "2199  2003  Wyoming  501242\n",
       "\n",
       "[2200 rows x 3 columns]"
      ]
     },
     "execution_count": 14,
     "metadata": {},
     "output_type": "execute_result"
    }
   ],
   "source": [
    "crime_rates.loc[:, ['year', 'state', 'pop']]"
   ]
  },
  {
   "cell_type": "markdown",
   "metadata": {
    "id": "ot2Z0HgvsgHm"
   },
   "source": [
    "## Simple data analysis\n",
    "Let's take a look at the crime rates in Alaska throughout the years."
   ]
  },
  {
   "cell_type": "code",
   "execution_count": 15,
   "metadata": {
    "colab": {
     "base_uri": "https://localhost:8080/",
     "height": 258
    },
    "id": "rsgdfqaEsgHn",
    "outputId": "5c899de3-0caa-4b7d-8bb7-ef40504d86f2",
    "scrolled": true
   },
   "outputs": [
    {
     "data": {
      "text/html": [
       "<div>\n",
       "<style scoped>\n",
       "    .dataframe tbody tr th:only-of-type {\n",
       "        vertical-align: middle;\n",
       "    }\n",
       "\n",
       "    .dataframe tbody tr th {\n",
       "        vertical-align: top;\n",
       "    }\n",
       "\n",
       "    .dataframe thead th {\n",
       "        text-align: right;\n",
       "    }\n",
       "</style>\n",
       "<table border=\"1\" class=\"dataframe\">\n",
       "  <thead>\n",
       "    <tr style=\"text-align: right;\">\n",
       "      <th></th>\n",
       "      <th>state</th>\n",
       "      <th>pop</th>\n",
       "      <th>violent</th>\n",
       "      <th>murder</th>\n",
       "      <th>rape</th>\n",
       "      <th>robbery</th>\n",
       "      <th>assault</th>\n",
       "      <th>property</th>\n",
       "      <th>burglary</th>\n",
       "      <th>larceny</th>\n",
       "      <th>vehicle</th>\n",
       "    </tr>\n",
       "    <tr>\n",
       "      <th>year</th>\n",
       "      <th></th>\n",
       "      <th></th>\n",
       "      <th></th>\n",
       "      <th></th>\n",
       "      <th></th>\n",
       "      <th></th>\n",
       "      <th></th>\n",
       "      <th></th>\n",
       "      <th></th>\n",
       "      <th></th>\n",
       "      <th></th>\n",
       "    </tr>\n",
       "  </thead>\n",
       "  <tbody>\n",
       "    <tr>\n",
       "      <th>1960</th>\n",
       "      <td>Alaska</td>\n",
       "      <td>226167</td>\n",
       "      <td>104.30</td>\n",
       "      <td>10.20</td>\n",
       "      <td>20.80</td>\n",
       "      <td>28.30</td>\n",
       "      <td>45.10</td>\n",
       "      <td>1,544.90</td>\n",
       "      <td>332.10</td>\n",
       "      <td>970.50</td>\n",
       "      <td>242.30</td>\n",
       "    </tr>\n",
       "    <tr>\n",
       "      <th>1961</th>\n",
       "      <td>Alaska</td>\n",
       "      <td>234000</td>\n",
       "      <td>88.90</td>\n",
       "      <td>11.50</td>\n",
       "      <td>13.20</td>\n",
       "      <td>12.40</td>\n",
       "      <td>51.70</td>\n",
       "      <td>1,540.60</td>\n",
       "      <td>380.80</td>\n",
       "      <td>950.00</td>\n",
       "      <td>209.80</td>\n",
       "    </tr>\n",
       "    <tr>\n",
       "      <th>1962</th>\n",
       "      <td>Alaska</td>\n",
       "      <td>246000</td>\n",
       "      <td>91.50</td>\n",
       "      <td>4.50</td>\n",
       "      <td>18.70</td>\n",
       "      <td>13.80</td>\n",
       "      <td>54.50</td>\n",
       "      <td>1,564.60</td>\n",
       "      <td>351.60</td>\n",
       "      <td>985.40</td>\n",
       "      <td>227.60</td>\n",
       "    </tr>\n",
       "    <tr>\n",
       "      <th>1963</th>\n",
       "      <td>Alaska</td>\n",
       "      <td>248000</td>\n",
       "      <td>109.70</td>\n",
       "      <td>6.50</td>\n",
       "      <td>14.90</td>\n",
       "      <td>22.20</td>\n",
       "      <td>66.10</td>\n",
       "      <td>1,952.80</td>\n",
       "      <td>381.50</td>\n",
       "      <td>1,213.70</td>\n",
       "      <td>357.70</td>\n",
       "    </tr>\n",
       "    <tr>\n",
       "      <th>1964</th>\n",
       "      <td>Alaska</td>\n",
       "      <td>250000</td>\n",
       "      <td>150.00</td>\n",
       "      <td>10.40</td>\n",
       "      <td>22.40</td>\n",
       "      <td>21.20</td>\n",
       "      <td>96.00</td>\n",
       "      <td>2,016.00</td>\n",
       "      <td>443.60</td>\n",
       "      <td>1,218.40</td>\n",
       "      <td>354.00</td>\n",
       "    </tr>\n",
       "  </tbody>\n",
       "</table>\n",
       "</div>"
      ],
      "text/plain": [
       "       state     pop  violent  murder  rape  robbery  assault  property  \\\n",
       "year                                                                      \n",
       "1960  Alaska  226167   104.30   10.20 20.80    28.30    45.10  1,544.90   \n",
       "1961  Alaska  234000    88.90   11.50 13.20    12.40    51.70  1,540.60   \n",
       "1962  Alaska  246000    91.50    4.50 18.70    13.80    54.50  1,564.60   \n",
       "1963  Alaska  248000   109.70    6.50 14.90    22.20    66.10  1,952.80   \n",
       "1964  Alaska  250000   150.00   10.40 22.40    21.20    96.00  2,016.00   \n",
       "\n",
       "      burglary  larceny  vehicle  \n",
       "year                              \n",
       "1960    332.10   970.50   242.30  \n",
       "1961    380.80   950.00   209.80  \n",
       "1962    351.60   985.40   227.60  \n",
       "1963    381.50 1,213.70   357.70  \n",
       "1964    443.60 1,218.40   354.00  "
      ]
     },
     "execution_count": 15,
     "metadata": {},
     "output_type": "execute_result"
    }
   ],
   "source": [
    "### Select crimes data for state of Alaska\n",
    "alaska_crimes = crime_rates[crime_rates['state']=='Alaska']\n",
    "### Set the year as the index of the DataFrame\n",
    "alaska_crimes_by_year = alaska_crimes.set_index('year')\n",
    "alaska_crimes_by_year.head(5)"
   ]
  },
  {
   "cell_type": "code",
   "execution_count": 16,
   "metadata": {
    "colab": {
     "base_uri": "https://localhost:8080/",
     "height": 469
    },
    "id": "cM1g8MGGsgHn",
    "outputId": "14ac8e52-bb6d-4bea-91ea-c7a8537d000b"
   },
   "outputs": [
    {
     "data": {
      "image/png": "[encoded data removed]",
      "text/plain": [
       "<Figure size 640x480 with 1 Axes>"
      ]
     },
     "metadata": {},
     "output_type": "display_data"
    }
   ],
   "source": [
    "### Use iloc to select all rows and all the columns about crime rates\n",
    "### Use plot.line() to create a line plot\n",
    "lines = alaska_crimes_by_year.iloc[:,2:].plot.line()"
   ]
  },
  {
   "cell_type": "markdown",
   "metadata": {
    "id": "7K0UHPQGsgHn"
   },
   "source": [
    "## Your turn.\n",
    "- Select data from crime_rates dataframe where state equals to \"California\" and year is between 1980 and 2003, inclusively. *Hint: Use `&` to combine two conditions*.\n",
    "- Create a line plot where the horizontal axis is year and vertical axis is the number of crime cases."
   ]
  },
  {
   "cell_type": "code",
   "execution_count": 17,
   "metadata": {
    "colab": {
     "base_uri": "https://localhost:8080/",
     "height": 469
    },
    "id": "VJOq8EncsgHn",
    "outputId": "adb091b9-f841-4a63-dcb8-d3393ace4487"
   },
   "outputs": [
    {
     "data": {
      "image/png": "[encoded data removed]",
      "text/plain": [
       "<Figure size 640x480 with 1 Axes>"
      ]
     },
     "metadata": {},
     "output_type": "display_data"
    }
   ],
   "source": [
    "california_crimes = crime_rates[(crime_rates['state']=='California') & (crime_rates['year'] >=1980) & (crime_rates['year']<=2003)]\n",
    "california_crimes_by_year = california_crimes.set_index('year')\n",
    "plot = california_crimes_by_year.iloc[:,2:].plot.line()"
   ]
  },
  {
   "cell_type": "markdown",
   "metadata": {
    "id": "gKvaJ9tYsgHn"
   },
   "source": [
    "## It's still your turn ... to make another plot\n",
    "* We can't clearly see the trends for the lines that are below 1000  on the y-axis. How about generate another plot, including data for all years, and exclude data for burglary, larceny, and property."
   ]
  },
  {
   "cell_type": "code",
   "execution_count": 18,
   "metadata": {
    "colab": {
     "base_uri": "https://localhost:8080/",
     "height": 469
    },
    "id": "ppvcWN6ssgHo",
    "outputId": "61afba40-2729-4663-cd66-2bd2ef703dd1"
   },
   "outputs": [
    {
     "data": {
      "image/png": "[encoded data removed]",
      "text/plain": [
       "<Figure size 640x480 with 1 Axes>"
      ]
     },
     "metadata": {},
     "output_type": "display_data"
    }
   ],
   "source": [
    "california_crimes = california_crimes.iloc[:,:8]\n",
    "california_crimes\n",
    "california_crimes_by_year = california_crimes.set_index('year')\n",
    "plot = california_crimes_by_year.iloc[:,2:].plot.line()"
   ]
  },
  {
   "cell_type": "markdown",
   "metadata": {
    "id": "EBb5Dvv6sgHo"
   },
   "source": [
    "## One more plot\n",
    "Create a line plot to show the California population number over the years. Year will be on horizontal axis and population number will be on the y-axis. Remove the legend from the plot."
   ]
  },
  {
   "cell_type": "code",
   "execution_count": 24,
   "metadata": {
    "colab": {
     "base_uri": "https://localhost:8080/",
     "height": 485
    },
    "id": "zrFgZSTqsgHo",
    "outputId": "dccc811c-cfee-40d3-b09c-ebbcf2c6b7be"
   },
   "outputs": [
    {
     "data": {
      "image/png": "[encoded data removed]",
      "text/plain": [
       "<Figure size 640x480 with 1 Axes>"
      ]
     },
     "metadata": {},
     "output_type": "display_data"
    }
   ],
   "source": [
    "\n",
    "california = crime_rates[crime_rates['state'] == 'California']\n",
    "california_pop = california[[\"pop\",\"year\"]] \n",
    "california_pop\n",
    "california_by_year = california_pop.set_index('year')\n",
    "plot = california_by_year.iloc[:,:].plot(legend=False, title='California Population', xlabel='Year', ylabel='Population')"
   ]
  }
 ],
 "metadata": {
  "colab": {
   "provenance": []
  },
  "kernelspec": {
   "display_name": "Python 3 (ipykernel)",
   "language": "python",
   "name": "python3"
  },
  "language_info": {
   "codemirror_mode": {
    "name": "ipython",
    "version": 3
   },
   "file_extension": ".py",
   "mimetype": "text/x-python",
   "name": "python",
   "nbconvert_exporter": "python",
   "pygments_lexer": "ipython3",
   "version": "3.11.5"
  }
 },
 "nbformat": 4,
 "nbformat_minor": 4
}
