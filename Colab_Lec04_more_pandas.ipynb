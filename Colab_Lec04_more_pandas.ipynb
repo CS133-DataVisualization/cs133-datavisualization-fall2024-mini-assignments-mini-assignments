{
 "cells": [
  {
   "cell_type": "markdown",
   "metadata": {
    "id": "kNhwcVlNkaW5"
   },
   "source": [
    "# More practice with pandas\n",
    "\n",
    "\n",
    "### Objective of this notebook\n",
    "Using the same dataset that we used in Colab_Lec03, let's practice more data exploration."
   ]
  },
  {
   "cell_type": "code",
   "execution_count": 2,
   "metadata": {
    "id": "Uq2yPFhxkaW-"
   },
   "outputs": [],
   "source": [
    "# Import libraries\n",
    "import pandas as pd"
   ]
  },
  {
   "cell_type": "code",
   "execution_count": 195,
   "metadata": {
    "id": "j0NKk1UMkaXK"
   },
   "outputs": [],
   "source": [
    "# Read in the movie data set\n",
    "movie_filepath = 'https://raw.githubusercontent.com/csbfx/advpy122-data/master/top_movies_2020.csv'\n",
    "movies_df = pd.read_csv(movie_filepath)"
   ]
  },
  {
   "cell_type": "markdown",
   "metadata": {
    "id": "ynPM1GQtkaXL"
   },
   "source": [
    "Recall, how do you find out information and details of your dataset?"
   ]
  },
  {
   "cell_type": "code",
   "execution_count": 196,
   "metadata": {
    "id": "pGm6I_PqkaXM"
   },
   "outputs": [
    {
     "name": "stdout",
     "output_type": "stream",
     "text": [
      "(200, 4)\n",
      "Title               object\n",
      "Gross                int64\n",
      "Gross (Adjusted)     int64\n",
      "Year                 int64\n",
      "dtype: object\n"
     ]
    },
    {
     "data": {
      "text/plain": [
       "Title               0\n",
       "Gross               0\n",
       "Gross (Adjusted)    0\n",
       "Year                0\n",
       "dtype: int64"
      ]
     },
     "execution_count": 196,
     "metadata": {},
     "output_type": "execute_result"
    }
   ],
   "source": [
    "## What is the size of the table?\n",
    "print(movies_df.shape)\n",
    "## What are the data type of each of the columns in the table?\n",
    "print(movies_df.dtypes)\n",
    "## How many missing values are in each column?\n",
    "movies_df.isnull().sum()"
   ]
  },
  {
   "cell_type": "markdown",
   "metadata": {
    "id": "GezY-98WkaXP"
   },
   "source": [
    "## Questions to find the next blockbuster\n",
    "Let's get some information about trends in movie's gross to decide which movie were popular and high grossing so we can make a pitch for the next blockbuster. Use either tables or plots to answer the following questions."
   ]
  },
  {
   "cell_type": "code",
   "execution_count": 197,
   "metadata": {
    "id": "yTr96e8EY_yA"
   },
   "outputs": [
    {
     "name": "stdout",
     "output_type": "stream",
     "text": [
      "Gross                936662225\n",
      "Gross (Adjusted)    1895421694\n",
      "dtype: int64\n",
      "True\n",
      "10    Star Wars: Episode VII - The Force Awakens\n",
      "Name: Title, dtype: object\n",
      "0    Gone with the Wind\n",
      "Name: Title, dtype: object\n"
     ]
    }
   ],
   "source": [
    "## Q1: What was the max Gross and Gross adj from any movie?\n",
    "## df.column.max() will return for you max value in the column you specify\n",
    "gross = movies_df[[\"Gross\",\"Gross (Adjusted)\"]].max()\n",
    "grossIncome, adjustedGross = gross.iloc[0],gross.iloc[1]\n",
    "print(gross)\n",
    "## Q2: Are they the same movie?\n",
    "print((movies_df[(movies_df[\"Gross\"] == grossIncome) & (movies_df[\"Gross (Adjusted)\"] == adjustedGross)]).empty)\n",
    "\n",
    "print(movies_df[movies_df[\"Gross\"] == grossIncome][\"Title\"])\n",
    "print(movies_df[movies_df[\"Gross (Adjusted)\"] == adjustedGross][\"Title\"])\n",
    "## You can look at the index that has your row of interest by setting == to the max value\n"
   ]
  },
  {
   "cell_type": "code",
   "execution_count": 198,
   "metadata": {
    "id": "YLPMLRM0ZQkE"
   },
   "outputs": [
    {
     "data": {
      "text/html": [
       "<div>\n",
       "<style scoped>\n",
       "    .dataframe tbody tr th:only-of-type {\n",
       "        vertical-align: middle;\n",
       "    }\n",
       "\n",
       "    .dataframe tbody tr th {\n",
       "        vertical-align: top;\n",
       "    }\n",
       "\n",
       "    .dataframe thead th {\n",
       "        text-align: right;\n",
       "    }\n",
       "</style>\n",
       "<table border=\"1\" class=\"dataframe\">\n",
       "  <thead>\n",
       "    <tr style=\"text-align: right;\">\n",
       "      <th></th>\n",
       "      <th>Title</th>\n",
       "      <th>Gross</th>\n",
       "      <th>Gross (Adjusted)</th>\n",
       "      <th>Year</th>\n",
       "      <th>Decade</th>\n",
       "    </tr>\n",
       "  </thead>\n",
       "  <tbody>\n",
       "    <tr>\n",
       "      <th>0</th>\n",
       "      <td>Gone with the Wind</td>\n",
       "      <td>200852579</td>\n",
       "      <td>1895421694</td>\n",
       "      <td>1939</td>\n",
       "      <td>1930</td>\n",
       "    </tr>\n",
       "    <tr>\n",
       "      <th>1</th>\n",
       "      <td>Star Wars: Episode IV - A New Hope</td>\n",
       "      <td>460998507</td>\n",
       "      <td>1668979715</td>\n",
       "      <td>1977</td>\n",
       "      <td>1970</td>\n",
       "    </tr>\n",
       "    <tr>\n",
       "      <th>2</th>\n",
       "      <td>The Sound of Music</td>\n",
       "      <td>159287539</td>\n",
       "      <td>1335086324</td>\n",
       "      <td>1965</td>\n",
       "      <td>1960</td>\n",
       "    </tr>\n",
       "    <tr>\n",
       "      <th>3</th>\n",
       "      <td>E.T. the Extra-Terrestrial</td>\n",
       "      <td>435110554</td>\n",
       "      <td>1329174791</td>\n",
       "      <td>1982</td>\n",
       "      <td>1980</td>\n",
       "    </tr>\n",
       "    <tr>\n",
       "      <th>4</th>\n",
       "      <td>Titanic</td>\n",
       "      <td>659363944</td>\n",
       "      <td>1270101626</td>\n",
       "      <td>1997</td>\n",
       "      <td>1990</td>\n",
       "    </tr>\n",
       "    <tr>\n",
       "      <th>5</th>\n",
       "      <td>Star Wars: Episode VII - The Force Awakens</td>\n",
       "      <td>936662225</td>\n",
       "      <td>1013038487</td>\n",
       "      <td>2015</td>\n",
       "      <td>2010</td>\n",
       "    </tr>\n",
       "    <tr>\n",
       "      <th>6</th>\n",
       "      <td>Avatar</td>\n",
       "      <td>760507625</td>\n",
       "      <td>911790952</td>\n",
       "      <td>2009</td>\n",
       "      <td>2000</td>\n",
       "    </tr>\n",
       "    <tr>\n",
       "      <th>7</th>\n",
       "      <td>Bambi</td>\n",
       "      <td>102247150</td>\n",
       "      <td>596985188</td>\n",
       "      <td>1942</td>\n",
       "      <td>1940</td>\n",
       "    </tr>\n",
       "    <tr>\n",
       "      <th>8</th>\n",
       "      <td>Lady and the Tramp</td>\n",
       "      <td>93602326</td>\n",
       "      <td>522236013</td>\n",
       "      <td>1955</td>\n",
       "      <td>1950</td>\n",
       "    </tr>\n",
       "    <tr>\n",
       "      <th>9</th>\n",
       "      <td>The Four Horsemen of the Apocalypse</td>\n",
       "      <td>9183673</td>\n",
       "      <td>430255408</td>\n",
       "      <td>1921</td>\n",
       "      <td>1920</td>\n",
       "    </tr>\n",
       "  </tbody>\n",
       "</table>\n",
       "</div>"
      ],
      "text/plain": [
       "                                        Title      Gross  Gross (Adjusted)  \\\n",
       "0                          Gone with the Wind  200852579        1895421694   \n",
       "1          Star Wars: Episode IV - A New Hope  460998507        1668979715   \n",
       "2                          The Sound of Music  159287539        1335086324   \n",
       "3                  E.T. the Extra-Terrestrial  435110554        1329174791   \n",
       "4                                     Titanic  659363944        1270101626   \n",
       "5  Star Wars: Episode VII - The Force Awakens  936662225        1013038487   \n",
       "6                                      Avatar  760507625         911790952   \n",
       "7                                       Bambi  102247150         596985188   \n",
       "8                          Lady and the Tramp   93602326         522236013   \n",
       "9         The Four Horsemen of the Apocalypse    9183673         430255408   \n",
       "\n",
       "   Year  Decade  \n",
       "0  1939    1930  \n",
       "1  1977    1970  \n",
       "2  1965    1960  \n",
       "3  1982    1980  \n",
       "4  1997    1990  \n",
       "5  2015    2010  \n",
       "6  2009    2000  \n",
       "7  1942    1940  \n",
       "8  1955    1950  \n",
       "9  1921    1920  "
      ]
     },
     "execution_count": 198,
     "metadata": {},
     "output_type": "execute_result"
    }
   ],
   "source": [
    "## Q2: What was the top performing movie for each decade?\n",
    "## Using groupby allows us to group together rows within a column\n",
    "movies_df[\"Decade\"] = (movies_df[\"Year\"]//10) * 10\n",
    "movies_df.head()\n",
    "gross_decade = movies_df.groupby(\"Decade\")[\"Gross\"].max().reset_index()\n",
    "\n",
    "decades = pd.merge(movies_df,gross_decade, on=[\"Gross\",\"Decade\"])\n",
    "decades"
   ]
  },
  {
   "cell_type": "code",
   "execution_count": 200,
   "metadata": {
    "id": "Y4DJGty9ZWZF"
   },
   "outputs": [
    {
     "data": {
      "image/png": "[encoded data removed]",
      "text/plain": [
       "<Figure size 640x480 with 1 Axes>"
      ]
     },
     "metadata": {},
     "output_type": "display_data"
    }
   ],
   "source": [
    "## Q3: To ask if people watch movies more now then in the pass, we are going to ask over the years, is there a difference in the Gross adj over time?\n",
    "decade_gross_adj = movies_df.groupby(\"Decade\")[[\"Gross (Adjusted)\",\"Year\"]].sum().reset_index()\n",
    "\n",
    "# decade_gross_adj.head()\n",
    "\n",
    "decade_gross_adj_by_year = decade_gross_adj.set_index('Year')\n",
    "\n",
    "lines = decade_gross_adj_by_year.plot.line()\n",
    "## Q4: In addition, are there more top titles being release now compared to the past years?"
   ]
  },
  {
   "cell_type": "markdown",
   "metadata": {
    "id": "niHMDzroakgQ"
   },
   "source": [
    "What other information do you wish this table included that would have helped us find that next new movie?"
   ]
  },
  {
   "cell_type": "markdown",
   "metadata": {
    "id": "sH7qGpL8a32E"
   },
   "source": [
    "# Working with tsv\n",
    "Pandas is able to work with tab-delimited files as well as comma-delimited files. In the case of tab-delimited, we need to specify the delimiter by using the 'sep' keyword argument."
   ]
  },
  {
   "cell_type": "code",
   "execution_count": 8,
   "metadata": {
    "id": "my910Rd0bUNB"
   },
   "outputs": [],
   "source": [
    "euk_filepath = \"https://raw.githubusercontent.com/csbfx/advpy122-data/master/euk.tsv\"\n",
    "euk_df = pd.read_csv(euk_filepath, sep='\\t')"
   ]
  },
  {
   "cell_type": "code",
   "execution_count": null,
   "metadata": {
    "id": "x5nRpNGmb87V"
   },
   "outputs": [],
   "source": [
    "## Let's start with getting some information about our table. What is a quick way to do so?\n"
   ]
  },
  {
   "cell_type": "code",
   "execution_count": null,
   "metadata": {
    "id": "NS1WurA-ehTZ"
   },
   "outputs": [],
   "source": [
    "## I want to narrow down my tables to only include Fungi, how would I go about that?\n"
   ]
  },
  {
   "cell_type": "code",
   "execution_count": 9,
   "metadata": {
    "id": "aImPLPTXevjV"
   },
   "outputs": [],
   "source": [
    "## Let's further narrow down the table to look at Funggi that has genome size > 100. How many specimens remain?\n"
   ]
  },
  {
   "cell_type": "code",
   "execution_count": null,
   "metadata": {
    "id": "9feGpgCefKM3"
   },
   "outputs": [],
   "source": [
    "## Which species are in our table, that is Fungi with genome size > 100 Mb\n"
   ]
  },
  {
   "cell_type": "markdown",
   "metadata": {
    "id": "Nq2mtZ6Tfgto"
   },
   "source": [
    "Next class we will do some more data exploration"
   ]
  }
 ],
 "metadata": {
  "colab": {
   "provenance": []
  },
  "kernelspec": {
   "display_name": "Python 3 (ipykernel)",
   "language": "python",
   "name": "python3"
  },
  "language_info": {
   "codemirror_mode": {
    "name": "ipython",
    "version": 3
   },
   "file_extension": ".py",
   "mimetype": "text/x-python",
   "name": "python",
   "nbconvert_exporter": "python",
   "pygments_lexer": "ipython3",
   "version": "3.10.11"
  }
 },
 "nbformat": 4,
 "nbformat_minor": 4
}
