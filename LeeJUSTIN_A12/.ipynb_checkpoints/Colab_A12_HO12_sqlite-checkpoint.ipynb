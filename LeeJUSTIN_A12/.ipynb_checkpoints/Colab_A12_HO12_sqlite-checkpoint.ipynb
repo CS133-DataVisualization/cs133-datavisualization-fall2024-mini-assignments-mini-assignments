{
 "cells": [
  {
   "cell_type": "markdown",
   "metadata": {
    "id": "ZgULxg_0AuZL"
   },
   "source": [
    "###**Q1**.  Use [Lucidchart](https://sjsu.edu/it/services/applications/lucidchart.php) to create an Entity Relationship Diagram (ERD) for the following tables representing a customer order tracking system:\n",
    "\n",
    "Tables and fields:\n",
    "1. product:\n",
    "    - product_id: INTEGER (Primary key)\n",
    "    - name: TEXT not null\n",
    "    - price: REAL\n",
    "\n",
    "\n",
    "2. customer:\n",
    "    - customer_id: INTEGER (Primary key)\n",
    "    - name: TEXT not null\n",
    "    - email: TEXT not null\n",
    "\n",
    "\n",
    "3. purchase_order:\n",
    "    - order_id: INTEGER (Primary key)\n",
    "    - customer_id: INTEGER (Foreign key)\n",
    "    - date: TEXT not null (\"YYYY-MM-DD\")\n",
    "\n",
    "\n",
    "4. order_item:\n",
    "    - order_id: INTEGER (Foreign key)\n",
    "    - product_id: INTEGER (Foreign key)\n",
    "    - quantity: INTEGER\n",
    "    \n",
    "\n",
    "\n",
    "Export the ERD as PDF and submit it in Canvas."
   ]
  },
  {
   "cell_type": "markdown",
   "metadata": {
    "id": "PZJtgMx7AuZO"
   },
   "source": [
    "###**Q2**. Create SQLite tables and load data\n",
    "1. Here are the csv files for the data for the four tables:\n",
    "   - product: https://raw.githubusercontent.com/csbfx/cs133/main/product.csv\n",
    "   - customer: https://raw.githubusercontent.com/csbfx/cs133/main/customer.csv\n",
    "   - order_item: https://raw.githubusercontent.com/csbfx/cs133/main/order_item.csv\n",
    "   - purchase_order: https://raw.githubusercontent.com/csbfx/cs133/main/purchase_order.csv\n",
    "2. In this notebook, create the database and save it in a file called `store.db`, and create the four tables as described above.\n",
    "3. Load the data in the csv files into the corresponding table.\n",
    "4. Commit so that the data loaded to the tables to officially written to the tables.\n",
    "5. Execute a query SELECT * from each table to make sure the data are properly loaded.\n",
    "6. Execute a query using SELECT statement that queries with JOIN tables to find the purchase date, the products and quantities that a particular customer has purchased."
   ]
  },
  {
   "cell_type": "code",
   "execution_count": 2,
   "metadata": {
    "id": "w4xnppG8AuZP"
   },
   "outputs": [
    {
     "data": {
      "text/plain": [
       "<sqlite3.Cursor at 0x19e5a9a0240>"
      ]
     },
     "execution_count": 2,
     "metadata": {},
     "output_type": "execute_result"
    }
   ],
   "source": [
    "# 2.2 Create the database and save it in a file called store.db, and create the four tables as described above.\n",
    "# Your code here . . .\n",
    "import sqlite3\n",
    "import pandas as pd\n",
    "conn = sqlite3.connect(\"store.db\")\n",
    "cursor = conn.cursor()\n",
    "\n",
    "cursor.execute('''\n",
    "CREATE TABLE IF NOT EXISTS product (\n",
    "    product_id INTEGER PRIMARY KEY,\n",
    "    name TEXT NOT NULL,\n",
    "    price REAL\n",
    ");\n",
    "''')\n",
    "\n",
    "cursor.execute('''\n",
    "CREATE TABLE IF NOT EXISTS customer (\n",
    "    customer_id INTEGER PRIMARY KEY,\n",
    "    name TEXT NOT NULL,\n",
    "    email TEXT NOT NULL\n",
    ");\n",
    "\n",
    "''')\n",
    "\n",
    "cursor.execute('''\n",
    "CREATE TABLE IF NOT EXISTS purchase_order (\n",
    "    order_id INTEGER PRIMARY KEY,\n",
    "    customer_id INTEGER,\n",
    "    date TEXT NOT NULL,\n",
    "    FOREIGN KEY (customer_id) REFERENCES customer(customer_id)\n",
    ");\n",
    "''')\n",
    "\n",
    "cursor.execute('''\n",
    "CREATE TABLE IF NOT EXISTS order_item (\n",
    "    order_id INTEGER,\n",
    "    product_id INTEGER,\n",
    "    quantity INTEGER,\n",
    "    FOREIGN KEY (order_id) REFERENCES purchase_order(order_id),\n",
    "    FOREIGN KEY (product_id) REFERENCES product(product_id)\n",
    ");\n",
    "''')\n"
   ]
  },
  {
   "cell_type": "code",
   "execution_count": 3,
   "metadata": {
    "id": "WPRhy-dSBY-c"
   },
   "outputs": [],
   "source": [
    "# 2.3 Load the data in the csv files into the corresponding table.\n",
    "\n",
    "csv_links = [\n",
    "    [\"product\",\"https://raw.githubusercontent.com/csbfx/cs133/main/product.csv\"],\n",
    "    [\"customer\",\"https://raw.githubusercontent.com/csbfx/cs133/main/customer.csv\"],\n",
    "    [\"order_item\",\"https://raw.githubusercontent.com/csbfx/cs133/main/order_item.csv\"],\n",
    "    [\"purchase_order\",\"https://raw.githubusercontent.com/csbfx/cs133/main/purchase_order.csv\"]\n",
    "]\n",
    "for table_name, url in csv_links:\n",
    "    df = pd.read_csv(url)\n",
    "    df.to_sql(table_name, conn, if_exists=\"replace\", index=False)\n",
    "\n"
   ]
  },
  {
   "cell_type": "code",
   "execution_count": 4,
   "metadata": {
    "id": "VIBaGXPABbVO"
   },
   "outputs": [],
   "source": [
    "# 2.4 Commit so that the data loaded to the tables to officially written to the tables.\n",
    "conn.commit()"
   ]
  },
  {
   "cell_type": "code",
   "execution_count": 6,
   "metadata": {
    "id": "wPHFswfYBgan"
   },
   "outputs": [
    {
     "name": "stdout",
     "output_type": "stream",
     "text": [
      "product (0, 'bicycle', 400)\n",
      "product (1, 'helmet', 45)\n",
      "product (2, 'gloves', 23)\n",
      "product (3, 'chain', 48)\n",
      "customer (0, 'Wendy Lee', 'wlee@bike.com')\n",
      "customer (1, 'Jason Brown', 'jb@speed.com')\n",
      "customer (2, 'Harry Potter', 'hp@hogwarts.edu')\n",
      "customer (3, 'Godric Gryffindor', 'gg@hogwards.edu')\n",
      "order_item (0, 0, 1)\n",
      "order_item (0, 1, 1)\n",
      "order_item (1, 2, 2)\n",
      "order_item (1, 3, 1)\n",
      "purchase_order (0, 0, '2020-10-19')\n",
      "purchase_order (1, 0, '2020-10-20')\n",
      "purchase_order (2, 1, '2020-10-20')\n"
     ]
    }
   ],
   "source": [
    "# 2.5 Execute a query SELECT * from each table to make sure the data are properly loaded.\n",
    "for item in csv_links:\n",
    "    cursor.execute(f\"SELECT * FROM {item[0]}\")\n",
    "    rows = cursor.fetchall()\n",
    "    for row in rows:\n",
    "        print(f\"{item[0]}\",row)\n",
    "        \n"
   ]
  },
  {
   "cell_type": "code",
   "execution_count": 8,
   "metadata": {
    "id": "armxZeMPBmSe"
   },
   "outputs": [
    {
     "name": "stdout",
     "output_type": "stream",
     "text": [
      "group ('Wendy Lee', '2020-10-19', 'bicycle', 1)\n",
      "group ('Wendy Lee', '2020-10-19', 'helmet', 1)\n",
      "group ('Wendy Lee', '2020-10-20', 'gloves', 2)\n",
      "group ('Wendy Lee', '2020-10-20', 'chain', 1)\n"
     ]
    }
   ],
   "source": [
    "# 2.6 Execute a query using SELECT statement that queries with JOIN tables to find the purchase date,\n",
    "#    the products and quantities that a particular customer has purchased.\n",
    "# Query 1: ???\n",
    "# Query 2: ???\n",
    "\n",
    "cursor.execute('''\n",
    "    SELECT c.name, po.date, p.name, ot.quantity\n",
    "    FROM customer c\n",
    "    JOIN purchase_order po ON c.customer_id = po.customer_id\n",
    "    JOIN order_item ot ON ot.order_id = po.order_id\n",
    "    JOIN product p ON ot.product_id = p.product_id;\n",
    "''')\n",
    "\n",
    "rows = cursor.fetchall()\n",
    "for row in rows:\n",
    "    print(\"group\",row)\n",
    "    \n",
    "\n"
   ]
  },
  {
   "cell_type": "code",
   "execution_count": 14,
   "metadata": {
    "id": "h17Hwcs5jvoA"
   },
   "outputs": [
    {
     "name": "stdout",
     "output_type": "stream",
     "text": [
      "purchase_order (0, 'Wendy Lee', 'wlee@bike.com')\n",
      "purchase_order (1, 'Jason Brown', 'jb@speed.com')\n",
      "purchase_order (3, 'Godric Gryffindor', 'gg@hogwards.edu')\n",
      "purchase_order (4, 'Albus Dumbledore', 'ad@hogwarts.edu')\n"
     ]
    }
   ],
   "source": [
    "# Additional tasks\n",
    "# Appending a new row to one of the tables\n",
    "# Deleting row(s) with \"XXX\"\n",
    "\n",
    "cursor.execute(\"INSERT INTO customer (customer_id, name, email) VALUES (?, ?, ?)\", (4, \"Albus Dumbledore\", \"ad@hogwarts.edu\"))\n",
    "cursor.execute(\"DELETE FROM customer WHERE name = 'Harry Potter';\")\n",
    "\n",
    "cursor.execute(f\"SELECT * FROM customer\")\n",
    "rows = cursor.fetchall()\n",
    "for row in rows:\n",
    "    print(f\"{item[0]}\",row)\n",
    "    "
   ]
  }
 ],
 "metadata": {
  "colab": {
   "provenance": []
  },
  "kernelspec": {
   "display_name": "Python 3 (ipykernel)",
   "language": "python",
   "name": "python3"
  },
  "language_info": {
   "codemirror_mode": {
    "name": "ipython",
    "version": 3
   },
   "file_extension": ".py",
   "mimetype": "text/x-python",
   "name": "python",
   "nbconvert_exporter": "python",
   "pygments_lexer": "ipython3",
   "version": "3.10.11"
  }
 },
 "nbformat": 4,
 "nbformat_minor": 4
}
