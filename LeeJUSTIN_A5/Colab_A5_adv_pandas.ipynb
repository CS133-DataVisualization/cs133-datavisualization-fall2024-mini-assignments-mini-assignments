{
 "cells": [
  {
   "cell_type": "markdown",
   "metadata": {
    "id": "KaXHUmuvM4cH"
   },
   "source": [
    "## Assignment 5: Advance pandas\n",
    "Let's continue to use the dataset from the wine magazine used in notebook 'Colab_Lec06_advanced-pandas' to practice data transformation, grouping, and sorting.\n",
    "\n",
    "<img src=\"https://secure.static.meredith.com/crt/store/covers/magazines/nmo/9826_l.jpg\">"
   ]
  },
  {
   "cell_type": "code",
   "execution_count": 12,
   "metadata": {
    "id": "Iv968XwaM4cI",
    "outputId": "8b673ae1-7dea-4a06-f5fa-041b5873d6ce"
   },
   "outputs": [
    {
     "data": {
      "text/html": [
       "<div>\n",
       "<style scoped>\n",
       "    .dataframe tbody tr th:only-of-type {\n",
       "        vertical-align: middle;\n",
       "    }\n",
       "\n",
       "    .dataframe tbody tr th {\n",
       "        vertical-align: top;\n",
       "    }\n",
       "\n",
       "    .dataframe thead th {\n",
       "        text-align: right;\n",
       "    }\n",
       "</style>\n",
       "<table border=\"1\" class=\"dataframe\">\n",
       "  <thead>\n",
       "    <tr style=\"text-align: right;\">\n",
       "      <th></th>\n",
       "      <th>country</th>\n",
       "      <th>description</th>\n",
       "      <th>designation</th>\n",
       "      <th>points</th>\n",
       "      <th>price</th>\n",
       "      <th>province</th>\n",
       "      <th>region_1</th>\n",
       "      <th>region_2</th>\n",
       "      <th>taster_name</th>\n",
       "      <th>taster_twitter_handle</th>\n",
       "      <th>title</th>\n",
       "      <th>variety</th>\n",
       "      <th>winery</th>\n",
       "    </tr>\n",
       "  </thead>\n",
       "  <tbody>\n",
       "    <tr>\n",
       "      <th>0</th>\n",
       "      <td>Italy</td>\n",
       "      <td>Aromas include tropical fruit, broom, brimston...</td>\n",
       "      <td>Vulkà Bianco</td>\n",
       "      <td>87</td>\n",
       "      <td>NaN</td>\n",
       "      <td>Sicily &amp; Sardinia</td>\n",
       "      <td>Etna</td>\n",
       "      <td>NaN</td>\n",
       "      <td>Kerin O’Keefe</td>\n",
       "      <td>@kerinokeefe</td>\n",
       "      <td>Nicosia 2013 Vulkà Bianco  (Etna)</td>\n",
       "      <td>White Blend</td>\n",
       "      <td>Nicosia</td>\n",
       "    </tr>\n",
       "    <tr>\n",
       "      <th>1</th>\n",
       "      <td>Portugal</td>\n",
       "      <td>This is ripe and fruity, a wine that is smooth...</td>\n",
       "      <td>Avidagos</td>\n",
       "      <td>87</td>\n",
       "      <td>15.0</td>\n",
       "      <td>Douro</td>\n",
       "      <td>NaN</td>\n",
       "      <td>NaN</td>\n",
       "      <td>Roger Voss</td>\n",
       "      <td>@vossroger</td>\n",
       "      <td>Quinta dos Avidagos 2011 Avidagos Red (Douro)</td>\n",
       "      <td>Portuguese Red</td>\n",
       "      <td>Quinta dos Avidagos</td>\n",
       "    </tr>\n",
       "    <tr>\n",
       "      <th>2</th>\n",
       "      <td>US</td>\n",
       "      <td>Tart and snappy, the flavors of lime flesh and...</td>\n",
       "      <td>NaN</td>\n",
       "      <td>87</td>\n",
       "      <td>14.0</td>\n",
       "      <td>Oregon</td>\n",
       "      <td>Willamette Valley</td>\n",
       "      <td>Willamette Valley</td>\n",
       "      <td>Paul Gregutt</td>\n",
       "      <td>@paulgwine</td>\n",
       "      <td>Rainstorm 2013 Pinot Gris (Willamette Valley)</td>\n",
       "      <td>Pinot Gris</td>\n",
       "      <td>Rainstorm</td>\n",
       "    </tr>\n",
       "    <tr>\n",
       "      <th>3</th>\n",
       "      <td>US</td>\n",
       "      <td>Pineapple rind, lemon pith and orange blossom ...</td>\n",
       "      <td>Reserve Late Harvest</td>\n",
       "      <td>87</td>\n",
       "      <td>13.0</td>\n",
       "      <td>Michigan</td>\n",
       "      <td>Lake Michigan Shore</td>\n",
       "      <td>NaN</td>\n",
       "      <td>Alexander Peartree</td>\n",
       "      <td>NaN</td>\n",
       "      <td>St. Julian 2013 Reserve Late Harvest Riesling ...</td>\n",
       "      <td>Riesling</td>\n",
       "      <td>St. Julian</td>\n",
       "    </tr>\n",
       "    <tr>\n",
       "      <th>4</th>\n",
       "      <td>US</td>\n",
       "      <td>Much like the regular bottling from 2012, this...</td>\n",
       "      <td>Vintner's Reserve Wild Child Block</td>\n",
       "      <td>87</td>\n",
       "      <td>65.0</td>\n",
       "      <td>Oregon</td>\n",
       "      <td>Willamette Valley</td>\n",
       "      <td>Willamette Valley</td>\n",
       "      <td>Paul Gregutt</td>\n",
       "      <td>@paulgwine</td>\n",
       "      <td>Sweet Cheeks 2012 Vintner's Reserve Wild Child...</td>\n",
       "      <td>Pinot Noir</td>\n",
       "      <td>Sweet Cheeks</td>\n",
       "    </tr>\n",
       "  </tbody>\n",
       "</table>\n",
       "</div>"
      ],
      "text/plain": [
       "    country                                        description  \\\n",
       "0     Italy  Aromas include tropical fruit, broom, brimston...   \n",
       "1  Portugal  This is ripe and fruity, a wine that is smooth...   \n",
       "2        US  Tart and snappy, the flavors of lime flesh and...   \n",
       "3        US  Pineapple rind, lemon pith and orange blossom ...   \n",
       "4        US  Much like the regular bottling from 2012, this...   \n",
       "\n",
       "                          designation  points  price           province  \\\n",
       "0                        Vulkà Bianco      87    NaN  Sicily & Sardinia   \n",
       "1                            Avidagos      87   15.0              Douro   \n",
       "2                                 NaN      87   14.0             Oregon   \n",
       "3                Reserve Late Harvest      87   13.0           Michigan   \n",
       "4  Vintner's Reserve Wild Child Block      87   65.0             Oregon   \n",
       "\n",
       "              region_1           region_2         taster_name  \\\n",
       "0                 Etna                NaN       Kerin O’Keefe   \n",
       "1                  NaN                NaN          Roger Voss   \n",
       "2    Willamette Valley  Willamette Valley        Paul Gregutt   \n",
       "3  Lake Michigan Shore                NaN  Alexander Peartree   \n",
       "4    Willamette Valley  Willamette Valley        Paul Gregutt   \n",
       "\n",
       "  taster_twitter_handle                                              title  \\\n",
       "0          @kerinokeefe                  Nicosia 2013 Vulkà Bianco  (Etna)   \n",
       "1            @vossroger      Quinta dos Avidagos 2011 Avidagos Red (Douro)   \n",
       "2           @paulgwine       Rainstorm 2013 Pinot Gris (Willamette Valley)   \n",
       "3                   NaN  St. Julian 2013 Reserve Late Harvest Riesling ...   \n",
       "4           @paulgwine   Sweet Cheeks 2012 Vintner's Reserve Wild Child...   \n",
       "\n",
       "          variety               winery  \n",
       "0     White Blend              Nicosia  \n",
       "1  Portuguese Red  Quinta dos Avidagos  \n",
       "2      Pinot Gris            Rainstorm  \n",
       "3        Riesling           St. Julian  \n",
       "4      Pinot Noir         Sweet Cheeks  "
      ]
     },
     "execution_count": 12,
     "metadata": {},
     "output_type": "execute_result"
    }
   ],
   "source": [
    "csvurl=\"https://gist.githubusercontent.com/clairehq/\" + \\\n",
    "        \"79acab35be50eaf1c383948ed3fd1129/raw/407a02139ae1e134992b90b4b2b8c329b3d73a6a/winemag-data-130k-v2.csv\"\n",
    "import pandas as pd\n",
    "wine = pd.read_csv(csvurl)\n",
    "wine.drop(wine.columns[0], axis=\"columns\", inplace=True)\n",
    "wine.head()"
   ]
  },
  {
   "cell_type": "markdown",
   "metadata": {
    "id": "B5icW1ooM4cK"
   },
   "source": [
    "#### Question 1: ####  \n",
    "What is the mean of the points column?"
   ]
  },
  {
   "cell_type": "code",
   "execution_count": 13,
   "metadata": {
    "id": "zfLRcH-QNZk8"
   },
   "outputs": [
    {
     "name": "stdout",
     "output_type": "stream",
     "text": [
      "88.43403716087269\n"
     ]
    }
   ],
   "source": [
    "wine_points_mean = wine['points'].mean()\n",
    "print(wine_points_mean)"
   ]
  },
  {
   "cell_type": "markdown",
   "metadata": {
    "id": "xgUNI-hfM4cK"
   },
   "source": [
    "#### Question 2: ####  \n",
    "How many countries are present in this dataset? (Only count each country once)"
   ]
  },
  {
   "cell_type": "code",
   "execution_count": 14,
   "metadata": {
    "id": "3VtO-ngdNau1"
   },
   "outputs": [
    {
     "data": {
      "text/plain": [
       "41"
      ]
     },
     "execution_count": 14,
     "metadata": {},
     "output_type": "execute_result"
    }
   ],
   "source": [
    "unique_countries = wine[\"country\"].nunique()\n",
    "unique_countries"
   ]
  },
  {
   "cell_type": "markdown",
   "metadata": {
    "id": "o0LDb6ahM4cL"
   },
   "source": [
    "#### Question 3: ####\n",
    "How many times does each country appeared in this dataset? Show each country and the corresponding count (show counts in ascending order)"
   ]
  },
  {
   "cell_type": "code",
   "execution_count": 29,
   "metadata": {
    "id": "tLZ7v1RYNdDm"
   },
   "outputs": [
    {
     "data": {
      "text/plain": [
       "country\n",
       "Bosnia and Herzegovina        1\n",
       "Slovakia                      1\n",
       "Armenia                       1\n",
       "Luxembourg                    4\n",
       "Switzerland                   4\n",
       "India                         4\n",
       "Ukraine                       5\n",
       "Macedonia                     6\n",
       "Czech Republic                6\n",
       "Cyprus                        6\n",
       "Serbia                        7\n",
       "Peru                          8\n",
       "Morocco                      11\n",
       "Lebanon                      20\n",
       "Moldova                      30\n",
       "Mexico                       31\n",
       "Brazil                       31\n",
       "England                      36\n",
       "Georgia                      37\n",
       "Slovenia                     39\n",
       "Turkey                       43\n",
       "Croatia                      44\n",
       "Hungary                      61\n",
       "Uruguay                      61\n",
       "Romania                      67\n",
       "Bulgaria                     68\n",
       "Canada                      108\n",
       "Greece                      242\n",
       "Israel                      259\n",
       "New Zealand                 733\n",
       "South Africa                737\n",
       "Germany                    1051\n",
       "Australia                  1177\n",
       "Austria                    1635\n",
       "Argentina                  1907\n",
       "Chile                      2258\n",
       "Portugal                   2963\n",
       "Spain                      3409\n",
       "Italy                     10005\n",
       "France                    11174\n",
       "US                        27177\n",
       "Name: count, dtype: int64"
      ]
     },
     "execution_count": 29,
     "metadata": {},
     "output_type": "execute_result"
    }
   ],
   "source": [
    "countries = wine[\"country\"].value_counts().sort_values(ascending=True)\n",
    "countries"
   ]
  },
  {
   "cell_type": "markdown",
   "metadata": {
    "id": "OpkB90HkM4cL"
   },
   "source": [
    "#### Question 4: ####\n",
    "Create a variable `adjusted_price` containing the adjusted price which is the price subtracted by the average price. *This is called **\"centering\" transformation** - a method commonly used in the preprocessing step before applying various machine learning algorithms.*"
   ]
  },
  {
   "cell_type": "code",
   "execution_count": 32,
   "metadata": {
    "id": "PiNrXHhMNeTD"
   },
   "outputs": [
    {
     "name": "stdout",
     "output_type": "stream",
     "text": [
      "35.232931660885434\n"
     ]
    },
    {
     "data": {
      "text/plain": [
       "0              NaN\n",
       "1       -20.232932\n",
       "2       -21.232932\n",
       "3       -22.232932\n",
       "4        29.767068\n",
       "           ...    \n",
       "65494     9.767068\n",
       "65495   -13.232932\n",
       "65496   -15.232932\n",
       "65497    -4.232932\n",
       "65498   -25.232932\n",
       "Name: price, Length: 65499, dtype: float64"
      ]
     },
     "execution_count": 32,
     "metadata": {},
     "output_type": "execute_result"
    }
   ],
   "source": [
    "price_mean = wine['price'].mean()\n",
    "print(price_mean)\n",
    "adjusted_price = wine['price'].map(lambda p: p - price_mean)\n",
    "adjusted_price"
   ]
  },
  {
   "cell_type": "markdown",
   "metadata": {
    "id": "AkOtVGS6M4cL"
   },
   "source": [
    "#### Question 5: ####\n",
    "What is the title of the wine that has the highest points-to-price ratio in the dataset?"
   ]
  },
  {
   "cell_type": "code",
   "execution_count": 45,
   "metadata": {
    "id": "M493qpX7NfjD"
   },
   "outputs": [
    {
     "data": {
      "text/plain": [
       "64590    Bandit NV Merlot (California)\n",
       "Name: title, dtype: object"
      ]
     },
     "execution_count": 45,
     "metadata": {},
     "output_type": "execute_result"
    }
   ],
   "source": [
    "wine['price_point_ratio'] = wine['points'] / wine['price'] \n",
    "highest = wine['price_point_ratio'].max()\n",
    "wine[wine['price_point_ratio'] == highest]['title']"
   ]
  },
  {
   "cell_type": "markdown",
   "metadata": {
    "id": "Zqt78i-eM4cL"
   },
   "source": [
    "#### Question 6: ####\n",
    "Create a series `flavor_counts` that contains two values: the number of wines that has the word \"tart\" in the `description` column and the number of wines that has the word \"berries\" in the `description` column. The index of the Series should be \"Tart\" and \"Berries\" for the corresponding values."
   ]
  },
  {
   "cell_type": "code",
   "execution_count": 67,
   "metadata": {
    "id": "uzqdreKSM4cM"
   },
   "outputs": [
    {
     "name": "stdout",
     "output_type": "stream",
     "text": [
      "Tart       2378\n",
      "Berries     620\n",
      "dtype: int64\n"
     ]
    }
   ],
   "source": [
    "# Look for the word \"tart\", not case sensitive, not a substring of another word.\n",
    "# Same applies to the word \"berries\"\n",
    "flavor_counts_tart = wine[wine['description'].apply(lambda x: 'tart' in x.lower().split())].shape[0]\n",
    "flavor_counts_berry = wine[wine['description'].apply(lambda x: 'berries' in x.lower().split())].shape[0]\n",
    "flavor_counts = pd.Series([flavor_counts_tart, flavor_counts_berry], index=['Tart', 'Berries'])\n",
    "\n",
    "print(flavor_counts)"
   ]
  },
  {
   "cell_type": "markdown",
   "metadata": {
    "id": "wSVdmOw9M4cM"
   },
   "source": [
    "#### Question 7: ####\n",
    "Let's convert the points into simple star ratings. A score of 90 or higher counts as 3 stars, a score of at least 80 but less than 90 is 2 stars. Any other score is 1 star.\n",
    "\n",
    "Also, any wines from France should automatically get 3 stars, regardless of points.\n",
    "\n",
    "Add this new column `star_ratings` to the dataframe with the number of stars for each wine in the dataset."
   ]
  },
  {
   "cell_type": "code",
   "execution_count": 65,
   "metadata": {
    "id": "yOucjOJZM4cN"
   },
   "outputs": [
    {
     "data": {
      "text/html": [
       "<div>\n",
       "<style scoped>\n",
       "    .dataframe tbody tr th:only-of-type {\n",
       "        vertical-align: middle;\n",
       "    }\n",
       "\n",
       "    .dataframe tbody tr th {\n",
       "        vertical-align: top;\n",
       "    }\n",
       "\n",
       "    .dataframe thead th {\n",
       "        text-align: right;\n",
       "    }\n",
       "</style>\n",
       "<table border=\"1\" class=\"dataframe\">\n",
       "  <thead>\n",
       "    <tr style=\"text-align: right;\">\n",
       "      <th></th>\n",
       "      <th>country</th>\n",
       "      <th>description</th>\n",
       "      <th>designation</th>\n",
       "      <th>points</th>\n",
       "      <th>price</th>\n",
       "      <th>province</th>\n",
       "      <th>region_1</th>\n",
       "      <th>region_2</th>\n",
       "      <th>taster_name</th>\n",
       "      <th>taster_twitter_handle</th>\n",
       "      <th>title</th>\n",
       "      <th>variety</th>\n",
       "      <th>winery</th>\n",
       "      <th>price_point_ratio</th>\n",
       "      <th>star_ratings</th>\n",
       "    </tr>\n",
       "  </thead>\n",
       "  <tbody>\n",
       "    <tr>\n",
       "      <th>0</th>\n",
       "      <td>Italy</td>\n",
       "      <td>Aromas include tropical fruit, broom, brimston...</td>\n",
       "      <td>Vulkà Bianco</td>\n",
       "      <td>87</td>\n",
       "      <td>NaN</td>\n",
       "      <td>Sicily &amp; Sardinia</td>\n",
       "      <td>Etna</td>\n",
       "      <td>NaN</td>\n",
       "      <td>Kerin O’Keefe</td>\n",
       "      <td>@kerinokeefe</td>\n",
       "      <td>Nicosia 2013 Vulkà Bianco  (Etna)</td>\n",
       "      <td>White Blend</td>\n",
       "      <td>Nicosia</td>\n",
       "      <td>NaN</td>\n",
       "      <td>2</td>\n",
       "    </tr>\n",
       "    <tr>\n",
       "      <th>1</th>\n",
       "      <td>Portugal</td>\n",
       "      <td>This is ripe and fruity, a wine that is smooth...</td>\n",
       "      <td>Avidagos</td>\n",
       "      <td>87</td>\n",
       "      <td>15.0</td>\n",
       "      <td>Douro</td>\n",
       "      <td>NaN</td>\n",
       "      <td>NaN</td>\n",
       "      <td>Roger Voss</td>\n",
       "      <td>@vossroger</td>\n",
       "      <td>Quinta dos Avidagos 2011 Avidagos Red (Douro)</td>\n",
       "      <td>Portuguese Red</td>\n",
       "      <td>Quinta dos Avidagos</td>\n",
       "      <td>5.800000</td>\n",
       "      <td>2</td>\n",
       "    </tr>\n",
       "    <tr>\n",
       "      <th>2</th>\n",
       "      <td>US</td>\n",
       "      <td>Tart and snappy, the flavors of lime flesh and...</td>\n",
       "      <td>NaN</td>\n",
       "      <td>87</td>\n",
       "      <td>14.0</td>\n",
       "      <td>Oregon</td>\n",
       "      <td>Willamette Valley</td>\n",
       "      <td>Willamette Valley</td>\n",
       "      <td>Paul Gregutt</td>\n",
       "      <td>@paulgwine</td>\n",
       "      <td>Rainstorm 2013 Pinot Gris (Willamette Valley)</td>\n",
       "      <td>Pinot Gris</td>\n",
       "      <td>Rainstorm</td>\n",
       "      <td>6.214286</td>\n",
       "      <td>2</td>\n",
       "    </tr>\n",
       "    <tr>\n",
       "      <th>3</th>\n",
       "      <td>US</td>\n",
       "      <td>Pineapple rind, lemon pith and orange blossom ...</td>\n",
       "      <td>Reserve Late Harvest</td>\n",
       "      <td>87</td>\n",
       "      <td>13.0</td>\n",
       "      <td>Michigan</td>\n",
       "      <td>Lake Michigan Shore</td>\n",
       "      <td>NaN</td>\n",
       "      <td>Alexander Peartree</td>\n",
       "      <td>NaN</td>\n",
       "      <td>St. Julian 2013 Reserve Late Harvest Riesling ...</td>\n",
       "      <td>Riesling</td>\n",
       "      <td>St. Julian</td>\n",
       "      <td>6.692308</td>\n",
       "      <td>2</td>\n",
       "    </tr>\n",
       "    <tr>\n",
       "      <th>4</th>\n",
       "      <td>US</td>\n",
       "      <td>Much like the regular bottling from 2012, this...</td>\n",
       "      <td>Vintner's Reserve Wild Child Block</td>\n",
       "      <td>87</td>\n",
       "      <td>65.0</td>\n",
       "      <td>Oregon</td>\n",
       "      <td>Willamette Valley</td>\n",
       "      <td>Willamette Valley</td>\n",
       "      <td>Paul Gregutt</td>\n",
       "      <td>@paulgwine</td>\n",
       "      <td>Sweet Cheeks 2012 Vintner's Reserve Wild Child...</td>\n",
       "      <td>Pinot Noir</td>\n",
       "      <td>Sweet Cheeks</td>\n",
       "      <td>1.338462</td>\n",
       "      <td>2</td>\n",
       "    </tr>\n",
       "    <tr>\n",
       "      <th>...</th>\n",
       "      <td>...</td>\n",
       "      <td>...</td>\n",
       "      <td>...</td>\n",
       "      <td>...</td>\n",
       "      <td>...</td>\n",
       "      <td>...</td>\n",
       "      <td>...</td>\n",
       "      <td>...</td>\n",
       "      <td>...</td>\n",
       "      <td>...</td>\n",
       "      <td>...</td>\n",
       "      <td>...</td>\n",
       "      <td>...</td>\n",
       "      <td>...</td>\n",
       "      <td>...</td>\n",
       "    </tr>\n",
       "    <tr>\n",
       "      <th>65494</th>\n",
       "      <td>France</td>\n",
       "      <td>Made from young vines from the Vaulorent porti...</td>\n",
       "      <td>Fourchaume Premier Cru</td>\n",
       "      <td>90</td>\n",
       "      <td>45.0</td>\n",
       "      <td>Burgundy</td>\n",
       "      <td>Chablis</td>\n",
       "      <td>NaN</td>\n",
       "      <td>Roger Voss</td>\n",
       "      <td>@vossroger</td>\n",
       "      <td>William Fèvre 2005 Fourchaume Premier Cru  (Ch...</td>\n",
       "      <td>Chardonnay</td>\n",
       "      <td>William Fèvre</td>\n",
       "      <td>2.000000</td>\n",
       "      <td>3</td>\n",
       "    </tr>\n",
       "    <tr>\n",
       "      <th>65495</th>\n",
       "      <td>Australia</td>\n",
       "      <td>This is a big, fat, almost sweet-tasting Caber...</td>\n",
       "      <td>NaN</td>\n",
       "      <td>90</td>\n",
       "      <td>22.0</td>\n",
       "      <td>South Australia</td>\n",
       "      <td>McLaren Vale</td>\n",
       "      <td>NaN</td>\n",
       "      <td>Joe Czerwinski</td>\n",
       "      <td>@JoeCz</td>\n",
       "      <td>Tapestry 2005 Cabernet Sauvignon (McLaren Vale)</td>\n",
       "      <td>Cabernet Sauvignon</td>\n",
       "      <td>Tapestry</td>\n",
       "      <td>4.090909</td>\n",
       "      <td>3</td>\n",
       "    </tr>\n",
       "    <tr>\n",
       "      <th>65496</th>\n",
       "      <td>US</td>\n",
       "      <td>Much improved over the unripe 2005, Fritz's 20...</td>\n",
       "      <td>Estate</td>\n",
       "      <td>90</td>\n",
       "      <td>20.0</td>\n",
       "      <td>California</td>\n",
       "      <td>Dry Creek Valley</td>\n",
       "      <td>Sonoma</td>\n",
       "      <td>NaN</td>\n",
       "      <td>NaN</td>\n",
       "      <td>Fritz 2006 Estate Sauvignon Blanc (Dry Creek V...</td>\n",
       "      <td>Sauvignon Blanc</td>\n",
       "      <td>Fritz</td>\n",
       "      <td>4.500000</td>\n",
       "      <td>3</td>\n",
       "    </tr>\n",
       "    <tr>\n",
       "      <th>65497</th>\n",
       "      <td>US</td>\n",
       "      <td>This wine wears its 15.8% alcohol better than ...</td>\n",
       "      <td>Block 24</td>\n",
       "      <td>90</td>\n",
       "      <td>31.0</td>\n",
       "      <td>California</td>\n",
       "      <td>Napa Valley</td>\n",
       "      <td>Napa</td>\n",
       "      <td>NaN</td>\n",
       "      <td>NaN</td>\n",
       "      <td>Hendry 2004 Block 24 Primitivo (Napa Valley)</td>\n",
       "      <td>Primitivo</td>\n",
       "      <td>Hendry</td>\n",
       "      <td>2.903226</td>\n",
       "      <td>3</td>\n",
       "    </tr>\n",
       "    <tr>\n",
       "      <th>65498</th>\n",
       "      <td>Spain</td>\n",
       "      <td>A unique take on Manzanilla Sherry, which is o...</td>\n",
       "      <td>Manzanilla</td>\n",
       "      <td>90</td>\n",
       "      <td>10.0</td>\n",
       "      <td>Andalucia</td>\n",
       "      <td>Jerez</td>\n",
       "      <td>NaN</td>\n",
       "      <td>Michael Schachner</td>\n",
       "      <td>@wineschach</td>\n",
       "      <td>Bodegas Dios Baco S.L. NV Manzanilla Sherry (J...</td>\n",
       "      <td>Sherry</td>\n",
       "      <td>Bodegas Dios Baco S.L.</td>\n",
       "      <td>9.000000</td>\n",
       "      <td>3</td>\n",
       "    </tr>\n",
       "  </tbody>\n",
       "</table>\n",
       "<p>65499 rows × 15 columns</p>\n",
       "</div>"
      ],
      "text/plain": [
       "         country                                        description  \\\n",
       "0          Italy  Aromas include tropical fruit, broom, brimston...   \n",
       "1       Portugal  This is ripe and fruity, a wine that is smooth...   \n",
       "2             US  Tart and snappy, the flavors of lime flesh and...   \n",
       "3             US  Pineapple rind, lemon pith and orange blossom ...   \n",
       "4             US  Much like the regular bottling from 2012, this...   \n",
       "...          ...                                                ...   \n",
       "65494     France  Made from young vines from the Vaulorent porti...   \n",
       "65495  Australia  This is a big, fat, almost sweet-tasting Caber...   \n",
       "65496         US  Much improved over the unripe 2005, Fritz's 20...   \n",
       "65497         US  This wine wears its 15.8% alcohol better than ...   \n",
       "65498      Spain  A unique take on Manzanilla Sherry, which is o...   \n",
       "\n",
       "                              designation  points  price           province  \\\n",
       "0                            Vulkà Bianco      87    NaN  Sicily & Sardinia   \n",
       "1                                Avidagos      87   15.0              Douro   \n",
       "2                                     NaN      87   14.0             Oregon   \n",
       "3                    Reserve Late Harvest      87   13.0           Michigan   \n",
       "4      Vintner's Reserve Wild Child Block      87   65.0             Oregon   \n",
       "...                                   ...     ...    ...                ...   \n",
       "65494              Fourchaume Premier Cru      90   45.0           Burgundy   \n",
       "65495                                 NaN      90   22.0    South Australia   \n",
       "65496                              Estate      90   20.0         California   \n",
       "65497                            Block 24      90   31.0         California   \n",
       "65498                          Manzanilla      90   10.0          Andalucia   \n",
       "\n",
       "                  region_1           region_2         taster_name  \\\n",
       "0                     Etna                NaN       Kerin O’Keefe   \n",
       "1                      NaN                NaN          Roger Voss   \n",
       "2        Willamette Valley  Willamette Valley        Paul Gregutt   \n",
       "3      Lake Michigan Shore                NaN  Alexander Peartree   \n",
       "4        Willamette Valley  Willamette Valley        Paul Gregutt   \n",
       "...                    ...                ...                 ...   \n",
       "65494              Chablis                NaN          Roger Voss   \n",
       "65495         McLaren Vale                NaN      Joe Czerwinski   \n",
       "65496     Dry Creek Valley             Sonoma                 NaN   \n",
       "65497          Napa Valley               Napa                 NaN   \n",
       "65498                Jerez                NaN   Michael Schachner   \n",
       "\n",
       "      taster_twitter_handle  \\\n",
       "0              @kerinokeefe   \n",
       "1                @vossroger   \n",
       "2               @paulgwine    \n",
       "3                       NaN   \n",
       "4               @paulgwine    \n",
       "...                     ...   \n",
       "65494            @vossroger   \n",
       "65495                @JoeCz   \n",
       "65496                   NaN   \n",
       "65497                   NaN   \n",
       "65498           @wineschach   \n",
       "\n",
       "                                                   title             variety  \\\n",
       "0                      Nicosia 2013 Vulkà Bianco  (Etna)         White Blend   \n",
       "1          Quinta dos Avidagos 2011 Avidagos Red (Douro)      Portuguese Red   \n",
       "2          Rainstorm 2013 Pinot Gris (Willamette Valley)          Pinot Gris   \n",
       "3      St. Julian 2013 Reserve Late Harvest Riesling ...            Riesling   \n",
       "4      Sweet Cheeks 2012 Vintner's Reserve Wild Child...          Pinot Noir   \n",
       "...                                                  ...                 ...   \n",
       "65494  William Fèvre 2005 Fourchaume Premier Cru  (Ch...          Chardonnay   \n",
       "65495    Tapestry 2005 Cabernet Sauvignon (McLaren Vale)  Cabernet Sauvignon   \n",
       "65496  Fritz 2006 Estate Sauvignon Blanc (Dry Creek V...     Sauvignon Blanc   \n",
       "65497       Hendry 2004 Block 24 Primitivo (Napa Valley)           Primitivo   \n",
       "65498  Bodegas Dios Baco S.L. NV Manzanilla Sherry (J...              Sherry   \n",
       "\n",
       "                       winery  price_point_ratio  star_ratings  \n",
       "0                     Nicosia                NaN             2  \n",
       "1         Quinta dos Avidagos           5.800000             2  \n",
       "2                   Rainstorm           6.214286             2  \n",
       "3                  St. Julian           6.692308             2  \n",
       "4                Sweet Cheeks           1.338462             2  \n",
       "...                       ...                ...           ...  \n",
       "65494           William Fèvre           2.000000             3  \n",
       "65495                Tapestry           4.090909             3  \n",
       "65496                   Fritz           4.500000             3  \n",
       "65497                  Hendry           2.903226             3  \n",
       "65498  Bodegas Dios Baco S.L.           9.000000             3  \n",
       "\n",
       "[65499 rows x 15 columns]"
      ]
     },
     "execution_count": 65,
     "metadata": {},
     "output_type": "execute_result"
    }
   ],
   "source": [
    "def get_stars(x):\n",
    "    if x['country'] == \"France\" or x['points']>=90:\n",
    "        return 3\n",
    "    elif x['points']>=80:\n",
    "        return 2\n",
    "    else:\n",
    "        return 1\n",
    "wine[\"star_ratings\"] = wine.apply(get_stars, axis='columns')\n",
    "wine"
   ]
  },
  {
   "cell_type": "markdown",
   "metadata": {
    "id": "v9btZBA6M4cN"
   },
   "source": [
    "#### Question 8: ####\n",
    "Who are the most common wine reviewers in the dataset? Create a Series whose index is the taster_twitter_handle category from the dataset, and whose values count how many reviews each person wrote."
   ]
  },
  {
   "cell_type": "code",
   "execution_count": 74,
   "metadata": {
    "id": "dqsUgtGBNiQZ"
   },
   "outputs": [
    {
     "data": {
      "text/plain": [
       "taster_twitter_handle\n",
       "@vossroger          13045\n",
       "@wineschach          7752\n",
       "@kerinokeefe         5313\n",
       "@paulgwine           4851\n",
       "@vboone              4696\n",
       "@mattkettmann        3035\n",
       "@JoeCz               2605\n",
       "@wawinereport        2358\n",
       "@gordone_cellars     2032\n",
       "@AnneInVino          1769\n",
       "@laurbuzz             938\n",
       "@suskostrzewa         593\n",
       "@worldwineguys        465\n",
       "@bkfiona               11\n",
       "@winewchristina         4\n",
       "Name: count, dtype: int64"
      ]
     },
     "execution_count": 74,
     "metadata": {},
     "output_type": "execute_result"
    }
   ],
   "source": [
    "author_total_reviews = wine[\"taster_twitter_handle\"].value_counts()\n",
    "author_total_reviews"
   ]
  },
  {
   "cell_type": "markdown",
   "metadata": {
    "id": "rIO81pKrM4cN"
   },
   "source": [
    "#### Question 9: ####\n",
    "What combination of countries and varieties are most common? Create a Series whose index is a MultiIndexof {country, variety} pairs. For example, a pinot noir produced in the US should map to {\"US\", \"Pinot Noir\"}. Sort the values in the Series in descending order based on wine count."
   ]
  },
  {
   "cell_type": "code",
   "execution_count": 110,
   "metadata": {
    "id": "4Is2muZjNjxd"
   },
   "outputs": [
    {
     "data": {
      "text/plain": [
       "country    variety                 \n",
       "US         Pinot Noir                  4918\n",
       "           Cabernet Sauvignon          3649\n",
       "           Chardonnay                  3412\n",
       "France     Bordeaux-style Red Blend    2380\n",
       "Italy      Red Blend                   1870\n",
       "                                       ... \n",
       "Romania    Rosé                           1\n",
       "US         Ugni Blanc                     1\n",
       "           Touriga                        1\n",
       "           Torrontés                      1\n",
       "Argentina  Merlot-Cabernet Franc          1\n",
       "Name: count, Length: 1304, dtype: int64"
      ]
     },
     "execution_count": 110,
     "metadata": {},
     "output_type": "execute_result"
    }
   ],
   "source": [
    "countries_varieties = wine.groupby(['country', 'variety']).description.agg([\"count\"]).sort_values(by='count', ascending=False)['count']\n",
    "countries_varieties"
   ]
  },
  {
   "cell_type": "markdown",
   "metadata": {
    "id": "C6sj-ABlM4cO"
   },
   "source": [
    "#### Question 10 #####\n",
    "Create a Series whose index is reviewers and whose values is the average score given out by that reviewer. Hint: you will need the `taster_name` and `points` columns."
   ]
  },
  {
   "cell_type": "code",
   "execution_count": 120,
   "metadata": {
    "id": "QFseCkVwNlAk"
   },
   "outputs": [
    {
     "data": {
      "text/plain": [
       "taster_name\n",
       "Alexander Peartree    86.014286\n",
       "Anna Lee C. Iijima    88.380506\n",
       "Anne Krebiehl MW      90.587903\n",
       "Carrie Dykes          86.644444\n",
       "Christina Pickard     89.500000\n",
       "Fiona Adams           87.090909\n",
       "Jeff Jenssen          88.273504\n",
       "Jim Gordon            88.604331\n",
       "Joe Czerwinski        88.519770\n",
       "Kerin O’Keefe         88.827969\n",
       "Lauren Buzzeo         87.831557\n",
       "Matt Kettmann         90.021087\n",
       "Michael Schachner     86.904541\n",
       "Mike DeSimone         89.030303\n",
       "Paul Gregutt          89.095032\n",
       "Roger Voss            88.678957\n",
       "Sean P. Sullivan      88.666243\n",
       "Susan Kostrzewa       86.408094\n",
       "Virginie Boone        89.229557\n",
       "Name: points, dtype: float64"
      ]
     },
     "execution_count": 120,
     "metadata": {},
     "output_type": "execute_result"
    }
   ],
   "source": [
    "avg_reviewer =wine.groupby(['taster_name']).points.mean()\n",
    "avg_reviewer"
   ]
  }
 ],
 "metadata": {
  "colab": {
   "provenance": []
  },
  "kernelspec": {
   "display_name": "Python 3 (ipykernel)",
   "language": "python",
   "name": "python3"
  },
  "language_info": {
   "codemirror_mode": {
    "name": "ipython",
    "version": 3
   },
   "file_extension": ".py",
   "mimetype": "text/x-python",
   "name": "python",
   "nbconvert_exporter": "python",
   "pygments_lexer": "ipython3",
   "version": "3.10.11"
  }
 },
 "nbformat": 4,
 "nbformat_minor": 4
}
