{
 "cells": [
  {
   "cell_type": "markdown",
   "metadata": {
    "id": "iBkOEcnqJ8Kt"
   },
   "source": [
    "## Explorating the Tree of Life\n",
    "\n",
    "<table><tr><td>\n",
    "<img src=\"https://i.guim.co.uk/img/static/sys-images/Guardian/Pix/pictures/2008/04/17/DarwinSketch.article.jpg?width=445&quality=85&auto=format&fit=max&s=c7f89552d12b8495b2b4eb4d7a5bc391\" width=200><a href=\"https://i.guim.co.uk/img/static/sys-images/Guardian/Pix/pictures/2008/04/17/DarwinSketch.article.jpg?width=445&quality=85&auto=format&fit=max&s=c7f89552d12b8495b2b4eb4d7a5bc391\">source</a></td><td><img src=\"http://www.greennature.ca/greennature/taxonomy/tree_of_life.png\" width=300><a href=\"http://www.greennature.ca/greennature/taxonomy/tree_of_life.png\">source</a></td></tr></table>"
   ]
  },
  {
   "cell_type": "markdown",
   "metadata": {
    "id": "zlq_EnyFJ8Kv"
   },
   "source": [
    "In this hands-on exercise, you answer the following questions by using pandas data structures and methods to analyze the eukaryote genome data store in the following tab-delimited file. https://raw.githubusercontent.com/csbfx/advpy122-data/master/euk.tsv"
   ]
  },
  {
   "cell_type": "code",
   "execution_count": null,
   "metadata": {
    "id": "5ap-dlxTJ8Kw",
    "outputId": "4a083f4f-94cc-431f-b62c-0070f9308776"
   },
   "outputs": [],
   "source": [
    "import pandas as pd\n",
    "%matplotlib inline\n",
    "\n",
    "# this input file is tab-delimited instead of comma-delimited\n",
    "tsvFile = \"https://raw.githubusercontent.com/csbfx/advpy122-data/master/euk.tsv\"\n",
    "# Load the csv file into a dataframe\n",
    "euk = pd.read_csv(tsvFile, sep=\"\\t\")\n",
    "euk"
   ]
  },
  {
   "cell_type": "markdown",
   "metadata": {
    "id": "8Z2GVGoBJ8Ky"
   },
   "source": [
    "## Q1. How many Mammals have at least 20,000 genes? What are their scientific names?\n",
    "*Note:*\n",
    "- *Mammals are under Class*\n",
    "- *Scientific names are under Species*\n"
   ]
  },
  {
   "cell_type": "code",
   "execution_count": 5,
   "metadata": {
    "id": "hmDqV-67J8Ky"
   },
   "outputs": [
    {
     "data": {
      "text/plain": [
       "44             Homo sapiens\n",
       "45             Mus musculus\n",
       "65        Rattus norvegicus\n",
       "70              Felis catus\n",
       "74               Bos taurus\n",
       "               ...         \n",
       "4977      Rattus norvegicus\n",
       "5087         Macaca mulatta\n",
       "5152    Macaca fascicularis\n",
       "5180     Cricetulus griseus\n",
       "6781           Mus musculus\n",
       "Name: Species, Length: 134, dtype: object"
      ]
     },
     "execution_count": 5,
     "metadata": {},
     "output_type": "execute_result"
    }
   ],
   "source": [
    "# euk['Number of genes'].dtype\n",
    "euk[\"Number of genes\"] =  pd.to_numeric(euk[\"Number of genes\"],  errors='coerce')\n",
    "euk[(euk['Class'] == \"Mammals\") & (euk['Number of genes'] > 20000)]['Species']"
   ]
  },
  {
   "cell_type": "markdown",
   "metadata": {
    "id": "rGumzDISJ8Kz"
   },
   "source": [
    "### Q2. Animals are a part of Kingdom. How many records are there for each Class of Animals?"
   ]
  },
  {
   "cell_type": "code",
   "execution_count": 6,
   "metadata": {
    "id": "32JhePXNJ8K0"
   },
   "outputs": [
    {
     "data": {
      "text/plain": [
       "Class\n",
       "Mammals          658\n",
       "Insects          602\n",
       "Fishes           282\n",
       "Other Animals    210\n",
       "Birds            172\n",
       "Roundworms       162\n",
       "Flatworms         47\n",
       "Reptiles          41\n",
       "Amphibians         7\n",
       "Name: count, dtype: int64"
      ]
     },
     "execution_count": 6,
     "metadata": {},
     "output_type": "execute_result"
    }
   ],
   "source": [
    "animals_df = euk[euk[\"Kingdom\"]==\"Animals\"]\n",
    "animals_class = animals_df[\"Class\"]\n",
    "animals_class.value_counts()"
   ]
  },
  {
   "cell_type": "markdown",
   "metadata": {
    "id": "CVl99HmAJ8K0"
   },
   "source": [
    "### Q3. Animals are a part of Kingdom. How many unique Species are there for each Class of Animals?"
   ]
  },
  {
   "cell_type": "code",
   "execution_count": 7,
   "metadata": {
    "id": "k21_L0DxJ8K1"
   },
   "outputs": [
    {
     "data": {
      "text/plain": [
       "9"
      ]
     },
     "execution_count": 7,
     "metadata": {},
     "output_type": "execute_result"
    }
   ],
   "source": [
    "animals_class.nunique()"
   ]
  },
  {
   "cell_type": "markdown",
   "metadata": {
    "id": "GM7drElwJ8K2"
   },
   "source": [
    "### Q4. What are the unique scientific names of Mammals with the genus name Macaca?\n",
    "*Recall: the scientific name starts with genus followed by a space and then the species name. Example: Homo sapiens, where Homo is the genus name and sapiens is the species name.*"
   ]
  },
  {
   "cell_type": "code",
   "execution_count": 8,
   "metadata": {
    "id": "p201a7g3J8K2"
   },
   "outputs": [
    {
     "data": {
      "text/plain": [
       "array(['Macaca mulatta', 'Macaca fascicularis', 'Macaca nemestrina',\n",
       "       'Macaca fuscata fuscata'], dtype=object)"
      ]
     },
     "execution_count": 8,
     "metadata": {},
     "output_type": "execute_result"
    }
   ],
   "source": [
    "euk[(euk['Class'] == \"Mammals\") & (euk['Species'].str.startswith('Macaca'))]['Species'].unique()\n"
   ]
  },
  {
   "cell_type": "markdown",
   "metadata": {
    "id": "E0xOV7Q5J8K3"
   },
   "source": [
    "### Q5. Modify the Species names to only contain the scientific names  and create a new dataframe.\n",
    "\n",
    "Some of the names in the Species column have more than two parts, such as `Emiliania huxleyi CCMP1516`. Create a new column `Species` that contains only the first two parts of name, such as `Emiliania huxleyi`. Combine this new Species column with `Kingdom`, `Class`, `Size (Mb)`, `Number of genes`, and `Number of proteins` and store this new dataframe as `df_species`.\n",
    "\n",
    "Hint: Follow Q3 in Lecture 4 with a little twist. Instead of just getting the first element from the split results, you will get the first two elements using `.str[0:2]` which will give you a list. You can then use `.str.join(\" \")` to change it back to a string."
   ]
  },
  {
   "cell_type": "code",
   "execution_count": 9,
   "metadata": {
    "id": "y5fftb5nJ8K3",
    "scrolled": true
   },
   "outputs": [
    {
     "data": {
      "text/html": [
       "<div>\n",
       "<style scoped>\n",
       "    .dataframe tbody tr th:only-of-type {\n",
       "        vertical-align: middle;\n",
       "    }\n",
       "\n",
       "    .dataframe tbody tr th {\n",
       "        vertical-align: top;\n",
       "    }\n",
       "\n",
       "    .dataframe thead th {\n",
       "        text-align: right;\n",
       "    }\n",
       "</style>\n",
       "<table border=\"1\" class=\"dataframe\">\n",
       "  <thead>\n",
       "    <tr style=\"text-align: right;\">\n",
       "      <th></th>\n",
       "      <th>Genus</th>\n",
       "      <th>Kingdom</th>\n",
       "      <th>Class</th>\n",
       "      <th>Size (Mb)</th>\n",
       "      <th>Number of genes</th>\n",
       "      <th>Number of proteins</th>\n",
       "    </tr>\n",
       "  </thead>\n",
       "  <tbody>\n",
       "    <tr>\n",
       "      <th>0</th>\n",
       "      <td>Emiliania huxleyi</td>\n",
       "      <td>Protists</td>\n",
       "      <td>Other Protists</td>\n",
       "      <td>167.676000</td>\n",
       "      <td>38549.0</td>\n",
       "      <td>38554</td>\n",
       "    </tr>\n",
       "    <tr>\n",
       "      <th>1</th>\n",
       "      <td>Arabidopsis thaliana</td>\n",
       "      <td>Plants</td>\n",
       "      <td>Land Plants</td>\n",
       "      <td>119.669000</td>\n",
       "      <td>38311.0</td>\n",
       "      <td>48265</td>\n",
       "    </tr>\n",
       "    <tr>\n",
       "      <th>2</th>\n",
       "      <td>Glycine max</td>\n",
       "      <td>Plants</td>\n",
       "      <td>Land Plants</td>\n",
       "      <td>979.046000</td>\n",
       "      <td>59847.0</td>\n",
       "      <td>71219</td>\n",
       "    </tr>\n",
       "    <tr>\n",
       "      <th>3</th>\n",
       "      <td>Medicago truncatula</td>\n",
       "      <td>Plants</td>\n",
       "      <td>Land Plants</td>\n",
       "      <td>412.924000</td>\n",
       "      <td>37603.0</td>\n",
       "      <td>41939</td>\n",
       "    </tr>\n",
       "    <tr>\n",
       "      <th>4</th>\n",
       "      <td>Solanum lycopersicum</td>\n",
       "      <td>Plants</td>\n",
       "      <td>Land Plants</td>\n",
       "      <td>828.349000</td>\n",
       "      <td>31200.0</td>\n",
       "      <td>37660</td>\n",
       "    </tr>\n",
       "    <tr>\n",
       "      <th>...</th>\n",
       "      <td>...</td>\n",
       "      <td>...</td>\n",
       "      <td>...</td>\n",
       "      <td>...</td>\n",
       "      <td>...</td>\n",
       "      <td>...</td>\n",
       "    </tr>\n",
       "    <tr>\n",
       "      <th>8297</th>\n",
       "      <td>Saccharomyces cerevisiae</td>\n",
       "      <td>Fungi</td>\n",
       "      <td>Ascomycetes</td>\n",
       "      <td>3.993920</td>\n",
       "      <td>NaN</td>\n",
       "      <td>-</td>\n",
       "    </tr>\n",
       "    <tr>\n",
       "      <th>8298</th>\n",
       "      <td>Saccharomyces cerevisiae</td>\n",
       "      <td>Fungi</td>\n",
       "      <td>Ascomycetes</td>\n",
       "      <td>0.586761</td>\n",
       "      <td>155.0</td>\n",
       "      <td>298</td>\n",
       "    </tr>\n",
       "    <tr>\n",
       "      <th>8299</th>\n",
       "      <td>Saccharomyces cerevisiae</td>\n",
       "      <td>Fungi</td>\n",
       "      <td>Ascomycetes</td>\n",
       "      <td>12.020400</td>\n",
       "      <td>NaN</td>\n",
       "      <td>-</td>\n",
       "    </tr>\n",
       "    <tr>\n",
       "      <th>8300</th>\n",
       "      <td>Saccharomyces cerevisiae</td>\n",
       "      <td>Fungi</td>\n",
       "      <td>Ascomycetes</td>\n",
       "      <td>11.960900</td>\n",
       "      <td>NaN</td>\n",
       "      <td>-</td>\n",
       "    </tr>\n",
       "    <tr>\n",
       "      <th>8301</th>\n",
       "      <td>Saccharomyces cerevisiae</td>\n",
       "      <td>Fungi</td>\n",
       "      <td>Ascomycetes</td>\n",
       "      <td>11.820700</td>\n",
       "      <td>NaN</td>\n",
       "      <td>-</td>\n",
       "    </tr>\n",
       "  </tbody>\n",
       "</table>\n",
       "<p>8302 rows × 6 columns</p>\n",
       "</div>"
      ],
      "text/plain": [
       "                         Genus   Kingdom           Class   Size (Mb)  \\\n",
       "0            Emiliania huxleyi  Protists  Other Protists  167.676000   \n",
       "1         Arabidopsis thaliana    Plants     Land Plants  119.669000   \n",
       "2                  Glycine max    Plants     Land Plants  979.046000   \n",
       "3          Medicago truncatula    Plants     Land Plants  412.924000   \n",
       "4         Solanum lycopersicum    Plants     Land Plants  828.349000   \n",
       "...                        ...       ...             ...         ...   \n",
       "8297  Saccharomyces cerevisiae     Fungi     Ascomycetes    3.993920   \n",
       "8298  Saccharomyces cerevisiae     Fungi     Ascomycetes    0.586761   \n",
       "8299  Saccharomyces cerevisiae     Fungi     Ascomycetes   12.020400   \n",
       "8300  Saccharomyces cerevisiae     Fungi     Ascomycetes   11.960900   \n",
       "8301  Saccharomyces cerevisiae     Fungi     Ascomycetes   11.820700   \n",
       "\n",
       "      Number of genes Number of proteins  \n",
       "0             38549.0              38554  \n",
       "1             38311.0              48265  \n",
       "2             59847.0              71219  \n",
       "3             37603.0              41939  \n",
       "4             31200.0              37660  \n",
       "...               ...                ...  \n",
       "8297              NaN                  -  \n",
       "8298            155.0                298  \n",
       "8299              NaN                  -  \n",
       "8300              NaN                  -  \n",
       "8301              NaN                  -  \n",
       "\n",
       "[8302 rows x 6 columns]"
      ]
     },
     "execution_count": 9,
     "metadata": {},
     "output_type": "execute_result"
    }
   ],
   "source": [
    "euk.Species.str.split().str[0:2]\n",
    "emiliania_data = euk[ euk.Species.str.split(' ').str[0:2].str.join(\" \") == \"Emiliania huxleyi\" ]\n",
    "emiliania_data\n",
    "\n",
    "euk['Genus']=euk.Species.str.split(' ').str[0:2].str.join(\" \")\n",
    "\n",
    "df_species = euk[[\"Genus\",\"Kingdom\",\"Class\", \"Size (Mb)\", \"Number of genes\", \"Number of proteins\"]]\n",
    "df_species"
   ]
  },
  {
   "cell_type": "markdown",
   "metadata": {
    "id": "scEqHzdtJ8K4"
   },
   "source": [
    "### Q6. Create a pie plot using pandas to show the number of unique Species in each Class of Animals using the new dataframe you created in Q5\n",
    "Hint: First, create a new dataframe that contains the number of unique Species and the index is the corresponding Animals Class. Then, use that dataframe to plot the pie plot.\n",
    "[Check out this documentation](https://pandas.pydata.org/pandas-docs/stable/reference/api/pandas.DataFrame.plot.pie.html)"
   ]
  },
  {
   "cell_type": "code",
   "execution_count": 42,
   "metadata": {
    "id": "J68Euje-J8K5"
   },
   "outputs": [],
   "source": [
    "# Create a new dataframe that contains the number of unique Species and\n",
    "# the index is the corresponding Animals Class.\n",
    "unique_species_df = df_species.groupby(\"Class\")[\"Genus\"].nunique()\n"
   ]
  },
  {
   "cell_type": "code",
   "execution_count": 43,
   "metadata": {
    "id": "E6z0SAooJ8K5"
   },
   "outputs": [
    {
     "data": {
      "image/png": "[encoded data removed]",
      "text/plain": [
       "<Figure size 640x480 with 1 Axes>"
      ]
     },
     "metadata": {},
     "output_type": "display_data"
    }
   ],
   "source": [
    "plot = unique_species_df.plot.pie(title='Number of Unique Species in Each Class')"
   ]
  },
  {
   "cell_type": "code",
   "execution_count": null,
   "metadata": {},
   "outputs": [],
   "source": []
  }
 ],
 "metadata": {
  "colab": {
   "provenance": []
  },
  "kernelspec": {
   "display_name": "Python 3 (ipykernel)",
   "language": "python",
   "name": "python3"
  },
  "language_info": {
   "codemirror_mode": {
    "name": "ipython",
    "version": 3
   },
   "file_extension": ".py",
   "mimetype": "text/x-python",
   "name": "python",
   "nbconvert_exporter": "python",
   "pygments_lexer": "ipython3",
   "version": "3.10.11"
  }
 },
 "nbformat": 4,
 "nbformat_minor": 4
}
