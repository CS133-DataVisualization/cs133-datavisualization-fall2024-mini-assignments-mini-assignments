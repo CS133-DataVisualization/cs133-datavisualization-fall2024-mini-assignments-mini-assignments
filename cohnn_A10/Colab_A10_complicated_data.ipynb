{
 "cells": [
  {
   "cell_type": "markdown",
   "metadata": {
    "id": "-AqiLKPR3r6d"
   },
   "source": [
    "# Working with complicated dataset"
   ]
  },
  {
   "cell_type": "markdown",
   "metadata": {
    "id": "tio0jU9Y3r6h"
   },
   "source": [
    "### Question 1\n",
    "\n",
    "blast_results: https://raw.githubusercontent.com/csbfx/advpy122-data/master/blast_results.csv\n",
    "\n",
    "Read in the data from the csv file above. Skip all the comment lines, create a header for the dataframe based on the fields list in the comment line that starts with **# Fields:**. Drop the first column `query acc.ver`. Set the `subject acc.ver` as the index of the dataframe. The last column of the dataframe should be `publications`. Show the first five rows of the resulting dataframe."
   ]
  },
  {
   "cell_type": "code",
   "execution_count": 15,
   "metadata": {
    "colab": {
     "base_uri": "https://localhost:8080/",
     "height": 313
    },
    "id": "zkhws8KT3r6i",
    "outputId": "fc8e3645-3e34-4401-a91f-8f8543557721"
   },
   "outputs": [
    {
     "name": "stdout",
     "output_type": "stream",
     "text": [
      "Index(['subject acc.ver', '% identity', 'alignment length', 'mismatches',\n",
      "       'gap opens', 'q. start', 'q. end', 's. start', 's. end', 'evalue',\n",
      "       'bit score', '% positives', 'bonds', 'publications', 'placeholder'],\n",
      "      dtype='object')\n"
     ]
    },
    {
     "data": {
      "text/html": [
       "<div>\n",
       "<style scoped>\n",
       "    .dataframe tbody tr th:only-of-type {\n",
       "        vertical-align: middle;\n",
       "    }\n",
       "\n",
       "    .dataframe tbody tr th {\n",
       "        vertical-align: top;\n",
       "    }\n",
       "\n",
       "    .dataframe thead th {\n",
       "        text-align: right;\n",
       "    }\n",
       "</style>\n",
       "<table border=\"1\" class=\"dataframe\">\n",
       "  <thead>\n",
       "    <tr style=\"text-align: right;\">\n",
       "      <th></th>\n",
       "      <th>subject acc.ver</th>\n",
       "      <th>% identity</th>\n",
       "      <th>alignment length</th>\n",
       "      <th>mismatches</th>\n",
       "      <th>gap opens</th>\n",
       "      <th>q. start</th>\n",
       "      <th>q. end</th>\n",
       "      <th>s. start</th>\n",
       "      <th>s. end</th>\n",
       "      <th>evalue</th>\n",
       "      <th>bit score</th>\n",
       "      <th>% positives</th>\n",
       "      <th>bonds</th>\n",
       "      <th>publications</th>\n",
       "      <th>placeholder</th>\n",
       "    </tr>\n",
       "  </thead>\n",
       "  <tbody>\n",
       "    <tr>\n",
       "      <th>0</th>\n",
       "      <td>NP_904328.1</td>\n",
       "      <td>100.000</td>\n",
       "      <td>318</td>\n",
       "      <td>0</td>\n",
       "      <td>0</td>\n",
       "      <td>1</td>\n",
       "      <td>318</td>\n",
       "      <td>1</td>\n",
       "      <td>318</td>\n",
       "      <td>0</td>\n",
       "      <td>629</td>\n",
       "      <td>100.00</td>\n",
       "      <td>1,487</td>\n",
       "      <td>9</td>\n",
       "      <td>NaN</td>\n",
       "    </tr>\n",
       "    <tr>\n",
       "      <th>1</th>\n",
       "      <td>AGK29621.1</td>\n",
       "      <td>99.686</td>\n",
       "      <td>318</td>\n",
       "      <td>1</td>\n",
       "      <td>0</td>\n",
       "      <td>1</td>\n",
       "      <td>318</td>\n",
       "      <td>1</td>\n",
       "      <td>318</td>\n",
       "      <td>0</td>\n",
       "      <td>629</td>\n",
       "      <td>100.00</td>\n",
       "      <td>17,947</td>\n",
       "      <td>47</td>\n",
       "      <td>NaN</td>\n",
       "    </tr>\n",
       "    <tr>\n",
       "      <th>2</th>\n",
       "      <td>YP_220563.1</td>\n",
       "      <td>99.686</td>\n",
       "      <td>318</td>\n",
       "      <td>1</td>\n",
       "      <td>0</td>\n",
       "      <td>1</td>\n",
       "      <td>318</td>\n",
       "      <td>1</td>\n",
       "      <td>318</td>\n",
       "      <td>0</td>\n",
       "      <td>627</td>\n",
       "      <td>100.00</td>\n",
       "      <td>12,106</td>\n",
       "      <td>13</td>\n",
       "      <td>NaN</td>\n",
       "    </tr>\n",
       "    <tr>\n",
       "      <th>3</th>\n",
       "      <td>ACM24502.1</td>\n",
       "      <td>99.686</td>\n",
       "      <td>318</td>\n",
       "      <td>1</td>\n",
       "      <td>0</td>\n",
       "      <td>1</td>\n",
       "      <td>318</td>\n",
       "      <td>1</td>\n",
       "      <td>318</td>\n",
       "      <td>0</td>\n",
       "      <td>627</td>\n",
       "      <td>99.69</td>\n",
       "      <td>2,319</td>\n",
       "      <td>41</td>\n",
       "      <td>NaN</td>\n",
       "    </tr>\n",
       "    <tr>\n",
       "      <th>4</th>\n",
       "      <td>AHG32084.1</td>\n",
       "      <td>99.371</td>\n",
       "      <td>318</td>\n",
       "      <td>2</td>\n",
       "      <td>0</td>\n",
       "      <td>1</td>\n",
       "      <td>318</td>\n",
       "      <td>1</td>\n",
       "      <td>318</td>\n",
       "      <td>0</td>\n",
       "      <td>627</td>\n",
       "      <td>100.00</td>\n",
       "      <td>18,964</td>\n",
       "      <td>3</td>\n",
       "      <td>NaN</td>\n",
       "    </tr>\n",
       "  </tbody>\n",
       "</table>\n",
       "</div>"
      ],
      "text/plain": [
       "  subject acc.ver  % identity  alignment length  mismatches  gap opens  \\\n",
       "0     NP_904328.1     100.000               318           0          0   \n",
       "1      AGK29621.1      99.686               318           1          0   \n",
       "2     YP_220563.1      99.686               318           1          0   \n",
       "3      ACM24502.1      99.686               318           1          0   \n",
       "4      AHG32084.1      99.371               318           2          0   \n",
       "\n",
       "   q. start  q. end  s. start  s. end  evalue  bit score  % positives  \\\n",
       "0         1     318         1     318       0        629       100.00   \n",
       "1         1     318         1     318       0        629       100.00   \n",
       "2         1     318         1     318       0        627       100.00   \n",
       "3         1     318         1     318       0        627        99.69   \n",
       "4         1     318         1     318       0        627       100.00   \n",
       "\n",
       "      bonds publications placeholder  \n",
       "0    1,487             9         NaN  \n",
       "1   17,947            47         NaN  \n",
       "2   12,106            13         NaN  \n",
       "3    2,319            41         NaN  \n",
       "4   18,964             3         NaN  "
      ]
     },
     "execution_count": 15,
     "metadata": {},
     "output_type": "execute_result"
    }
   ],
   "source": [
    "import pandas as pd\n",
    "import requests\n",
    "from io import StringIO\n",
    "\n",
    "# Define the headers explicitly\n",
    "headers = [\n",
    "    \"query acc.ver\", \"subject acc.ver\", \"% identity\", \"alignment length\",\n",
    "    \"mismatches\", \"gap opens\", \"q. start\", \"q. end\", \"s. start\", \"s. end\",\n",
    "    \"evalue\", \"bit score\", \"% positives\", \"bonds\", \"publications\", \"placeholder\"\n",
    "]\n",
    "\n",
    "# Define the data URL\n",
    "data_url = \"https://raw.githubusercontent.com/csbfx/advpy122-data/master/blast_results.csv\"\n",
    "\n",
    "# Download the file content\n",
    "response = requests.get(data_url)\n",
    "if response.status_code == 200:\n",
    "    raw_csv = response.text\n",
    "else:\n",
    "    raise Exception(f\"Failed to fetch data from URL: {data_url}\")\n",
    "\n",
    "# Load the dataset while forcing the correct headers\n",
    "raw_blast_data = pd.read_csv(\n",
    "    StringIO(raw_csv),\n",
    "    skiprows=7,  # Skip metadata rows\n",
    "    names=headers,  # Explicitly set headers\n",
    "    sep=\",\",  # Assuming comma-delimited\n",
    "    quotechar='\"',\n",
    "    skip_blank_lines=True,\n",
    "    engine=\"python\"\n",
    ")\n",
    "raw_blast_data = raw_blast_data.drop(columns=[\"query acc.ver\"])\n",
    "\n",
    "\n",
    "\n",
    "# Confirm the headers\n",
    "print(raw_blast_data.columns)\n",
    "raw_blast_data.head()"
   ]
  },
  {
   "cell_type": "markdown",
   "metadata": {
    "id": "aHNeMncr3r6j"
   },
   "source": [
    "### Question 2\n",
    "What is the average number of publications?"
   ]
  },
  {
   "cell_type": "code",
   "execution_count": 16,
   "metadata": {
    "colab": {
     "base_uri": "https://localhost:8080/"
    },
    "id": "cnMELDMxFO0S",
    "outputId": "5728b880-00a2-4811-db1d-25d4fe4cdd4f"
   },
   "outputs": [
    {
     "name": "stdout",
     "output_type": "stream",
     "text": [
      "0      9\n",
      "1     47\n",
      "2     13\n",
      "3     41\n",
      "4      3\n",
      "      ..\n",
      "95     6\n",
      "96    19\n",
      "97    37\n",
      "98     5\n",
      "99    32\n",
      "Name: publications, Length: 100, dtype: object\n"
     ]
    }
   ],
   "source": [
    "print(raw_blast_data[\"publications\"])\n"
   ]
  },
  {
   "cell_type": "code",
   "execution_count": 17,
   "metadata": {
    "colab": {
     "base_uri": "https://localhost:8080/"
    },
    "id": "Q1JK-hYw3r6j",
    "outputId": "cf621da0-080a-4213-92e8-2783f4cb54d4"
   },
   "outputs": [
    {
     "name": "stdout",
     "output_type": "stream",
     "text": [
      "Average number of publications: 26.989690721649485\n"
     ]
    }
   ],
   "source": [
    "### Your code here . . .\n",
    "raw_blast_data[\"publications\"] = pd.to_numeric(raw_blast_data[\"publications\"], errors=\"coerce\")\n",
    "average_publications = raw_blast_data[\"publications\"].mean()\n",
    "\n",
    "print(f\"Average number of publications: {average_publications}\")\n"
   ]
  },
  {
   "cell_type": "markdown",
   "metadata": {
    "id": "r4gRR96y3r6k"
   },
   "source": [
    "### Question 3\n",
    "List the `subject acc.ver` that has over 15,000 bonds."
   ]
  },
  {
   "cell_type": "code",
   "execution_count": 18,
   "metadata": {
    "colab": {
     "base_uri": "https://localhost:8080/"
    },
    "id": "39FnEdCnFnXp",
    "outputId": "87de2879-fd43-4a44-bb7c-c355b1696d62"
   },
   "outputs": [
    {
     "name": "stdout",
     "output_type": "stream",
     "text": [
      "0       1,487 \n",
      "1      17,947 \n",
      "2      12,106 \n",
      "3       2,319 \n",
      "4      18,964 \n",
      "        ...   \n",
      "95     17,348 \n",
      "96      7,105 \n",
      "97     18,940 \n",
      "98     18,762 \n",
      "99      3,209 \n",
      "Name: bonds, Length: 100, dtype: object\n"
     ]
    },
    {
     "data": {
      "text/plain": [
       "[('AGK29621.1', 17947),\n",
       " ('AHG32084.1', 18964),\n",
       " ('6G2J_H', 15663),\n",
       " ('YP_002791042.1', 15830),\n",
       " ('AGK29634.1', 17381),\n",
       " ('0806162F', 17499),\n",
       " ('YP_009112408.1', 16861),\n",
       " ('YP_001876469.1', 16274),\n",
       " ('YP_009092269.1', 16170),\n",
       " ('AHG32149.1', 19706),\n",
       " ('YP_009092074.1', 15023),\n",
       " ('YP_009450474.1', 18777),\n",
       " ('YP_004123270.1', 17739),\n",
       " ('YP_009092073.1', 17523),\n",
       " ('AHZ60901.1', 15963),\n",
       " ('YP_004123350.1', 16017),\n",
       " ('YP_009453754.1', 18973),\n",
       " ('ADD46492.1', 18196),\n",
       " ('YP_007025968.1', 16113),\n",
       " ('YP_009453806.1', 15809),\n",
       " ('YP_007024956.1', 19998),\n",
       " ('ASM92364.1', 19932),\n",
       " ('YP_006073044.1', 19814),\n",
       " ('ASM92494.1', 18372),\n",
       " ('ADG95699.1', 18573),\n",
       " ('YP_004891275.1', 16721),\n",
       " ('YP_009166014.1', 17627),\n",
       " ('YP_009538416.1', 19875),\n",
       " ('YP_009414182.1', 18207),\n",
       " ('YP_009178854.1', 15913),\n",
       " ('YP_009414415.1', 19020),\n",
       " ('YP_009353908.1', 19044),\n",
       " ('YP_009093743.1', 15876),\n",
       " ('ABX45285.1', 17348),\n",
       " ('YP_009414156.1', 18940),\n",
       " ('YP_009414363.1', 18762)]"
      ]
     },
     "execution_count": 18,
     "metadata": {},
     "output_type": "execute_result"
    }
   ],
   "source": [
    "print(raw_blast_data[\"bonds\"])\n",
    "\n",
    "raw_blast_data['bonds'] = raw_blast_data['bonds'].astype(str).str.replace(',', '').astype(int)\n",
    "\n",
    "filtered_subject_acc_ver_with_bonds = raw_blast_data.loc[raw_blast_data['bonds'] > 15000, ['subject acc.ver', 'bonds']]\n",
    "filtered_subject_acc_ver_with_bonds_list = filtered_subject_acc_ver_with_bonds.to_records(index=False)\n",
    "filtered_subject_acc_ver_with_bonds_list.tolist()\n"
   ]
  },
  {
   "cell_type": "markdown",
   "metadata": {
    "id": "H56QTFYU3r6l"
   },
   "source": [
    "### Question 4\n",
    "Create a plot that shows the correlation between `% identity` and `% positives`."
   ]
  },
  {
   "cell_type": "code",
   "execution_count": 19,
   "metadata": {
    "colab": {
     "base_uri": "https://localhost:8080/",
     "height": 513
    },
    "id": "YD3IBzmG3r6l",
    "outputId": "1a091a00-0db1-42a0-8077-3c2d5872db29"
   },
   "outputs": [
    {
     "data": {
      "image/png": "[encoded data removed]",
      "text/plain": [
       "<Figure size 800x600 with 1 Axes>"
      ]
     },
     "metadata": {},
     "output_type": "display_data"
    }
   ],
   "source": [
    "import matplotlib.pyplot as plt\n",
    "\n",
    "# Convert `% identity` and `% positives` columns to numeric for plotting\n",
    "raw_blast_data['% identity'] = pd.to_numeric(raw_blast_data['% identity'], errors='coerce')\n",
    "raw_blast_data['% positives'] = pd.to_numeric(raw_blast_data['% positives'], errors='coerce')\n",
    "\n",
    "# Create a scatter plot\n",
    "plt.figure(figsize=(8, 6))\n",
    "plt.scatter(raw_blast_data['% identity'], raw_blast_data['% positives'], alpha=0.7)\n",
    "plt.title(\"Correlation Between % Identity and % Positives\", fontsize=14)\n",
    "plt.xlabel(\"% Identity\", fontsize=12)\n",
    "plt.ylabel(\"% Positives\", fontsize=12)\n",
    "plt.grid(True, linestyle='--', alpha=0.6)\n",
    "plt.show()\n"
   ]
  },
  {
   "cell_type": "markdown",
   "metadata": {
    "id": "pEUJxhad3r6m"
   },
   "source": [
    "### Question  5\n",
    "Add a column `Protein source` to the dataframe from Question 1 based on the data in this csv file: https://raw.githubusercontent.com/csbfx/advpy122-data/master/protein_source.csv. Merge the data when the `subject acc.ver` from the dataframe equals to `Protein` in the csv file. Entries without a matching protein will have `NA` as `Protein source`."
   ]
  },
  {
   "cell_type": "code",
   "execution_count": 20,
   "metadata": {
    "id": "xzIwyECv3r6m"
   },
   "outputs": [
    {
     "name": "stderr",
     "output_type": "stream",
     "text": [
      "C:\\Users\\natha\\AppData\\Local\\Temp\\ipykernel_11172\\1860862696.py:14: FutureWarning: A value is trying to be set on a copy of a DataFrame or Series through chained assignment using an inplace method.\n",
      "The behavior will change in pandas 3.0. This inplace method will never work because the intermediate object on which we are setting values always behaves as a copy.\n",
      "\n",
      "For example, when doing 'df[col].method(value, inplace=True)', try using 'df.method({col: value}, inplace=True)' or df[col] = df[col].method(value) instead, to perform the operation inplace on the original object.\n",
      "\n",
      "\n",
      "  merged_data['Protein source'].fillna('NA', inplace=True)\n"
     ]
    },
    {
     "data": {
      "text/html": [
       "<div>\n",
       "<style scoped>\n",
       "    .dataframe tbody tr th:only-of-type {\n",
       "        vertical-align: middle;\n",
       "    }\n",
       "\n",
       "    .dataframe tbody tr th {\n",
       "        vertical-align: top;\n",
       "    }\n",
       "\n",
       "    .dataframe thead th {\n",
       "        text-align: right;\n",
       "    }\n",
       "</style>\n",
       "<table border=\"1\" class=\"dataframe\">\n",
       "  <thead>\n",
       "    <tr style=\"text-align: right;\">\n",
       "      <th></th>\n",
       "      <th>subject acc.ver</th>\n",
       "      <th>% identity</th>\n",
       "      <th>alignment length</th>\n",
       "      <th>mismatches</th>\n",
       "      <th>gap opens</th>\n",
       "      <th>q. start</th>\n",
       "      <th>q. end</th>\n",
       "      <th>s. start</th>\n",
       "      <th>s. end</th>\n",
       "      <th>evalue</th>\n",
       "      <th>bit score</th>\n",
       "      <th>% positives</th>\n",
       "      <th>bonds</th>\n",
       "      <th>publications</th>\n",
       "      <th>placeholder</th>\n",
       "      <th>Protein source</th>\n",
       "    </tr>\n",
       "  </thead>\n",
       "  <tbody>\n",
       "    <tr>\n",
       "      <th>0</th>\n",
       "      <td>NP_904328.1</td>\n",
       "      <td>100.000</td>\n",
       "      <td>318</td>\n",
       "      <td>0</td>\n",
       "      <td>0</td>\n",
       "      <td>1</td>\n",
       "      <td>318</td>\n",
       "      <td>1</td>\n",
       "      <td>318</td>\n",
       "      <td>0</td>\n",
       "      <td>629</td>\n",
       "      <td>100.00</td>\n",
       "      <td>1487</td>\n",
       "      <td>9.0</td>\n",
       "      <td>NaN</td>\n",
       "      <td>RefSeq</td>\n",
       "    </tr>\n",
       "    <tr>\n",
       "      <th>1</th>\n",
       "      <td>AGK29621.1</td>\n",
       "      <td>99.686</td>\n",
       "      <td>318</td>\n",
       "      <td>1</td>\n",
       "      <td>0</td>\n",
       "      <td>1</td>\n",
       "      <td>318</td>\n",
       "      <td>1</td>\n",
       "      <td>318</td>\n",
       "      <td>0</td>\n",
       "      <td>629</td>\n",
       "      <td>100.00</td>\n",
       "      <td>17947</td>\n",
       "      <td>47.0</td>\n",
       "      <td>NaN</td>\n",
       "      <td>NA</td>\n",
       "    </tr>\n",
       "    <tr>\n",
       "      <th>2</th>\n",
       "      <td>YP_220563.1</td>\n",
       "      <td>99.686</td>\n",
       "      <td>318</td>\n",
       "      <td>1</td>\n",
       "      <td>0</td>\n",
       "      <td>1</td>\n",
       "      <td>318</td>\n",
       "      <td>1</td>\n",
       "      <td>318</td>\n",
       "      <td>0</td>\n",
       "      <td>627</td>\n",
       "      <td>100.00</td>\n",
       "      <td>12106</td>\n",
       "      <td>13.0</td>\n",
       "      <td>NaN</td>\n",
       "      <td>GenPept</td>\n",
       "    </tr>\n",
       "    <tr>\n",
       "      <th>3</th>\n",
       "      <td>ACM24502.1</td>\n",
       "      <td>99.686</td>\n",
       "      <td>318</td>\n",
       "      <td>1</td>\n",
       "      <td>0</td>\n",
       "      <td>1</td>\n",
       "      <td>318</td>\n",
       "      <td>1</td>\n",
       "      <td>318</td>\n",
       "      <td>0</td>\n",
       "      <td>627</td>\n",
       "      <td>99.69</td>\n",
       "      <td>2319</td>\n",
       "      <td>41.0</td>\n",
       "      <td>NaN</td>\n",
       "      <td>NA</td>\n",
       "    </tr>\n",
       "    <tr>\n",
       "      <th>4</th>\n",
       "      <td>AHG32084.1</td>\n",
       "      <td>99.371</td>\n",
       "      <td>318</td>\n",
       "      <td>2</td>\n",
       "      <td>0</td>\n",
       "      <td>1</td>\n",
       "      <td>318</td>\n",
       "      <td>1</td>\n",
       "      <td>318</td>\n",
       "      <td>0</td>\n",
       "      <td>627</td>\n",
       "      <td>100.00</td>\n",
       "      <td>18964</td>\n",
       "      <td>3.0</td>\n",
       "      <td>NaN</td>\n",
       "      <td>NA</td>\n",
       "    </tr>\n",
       "  </tbody>\n",
       "</table>\n",
       "</div>"
      ],
      "text/plain": [
       "  subject acc.ver  % identity  alignment length  mismatches  gap opens  \\\n",
       "0     NP_904328.1     100.000               318           0          0   \n",
       "1      AGK29621.1      99.686               318           1          0   \n",
       "2     YP_220563.1      99.686               318           1          0   \n",
       "3      ACM24502.1      99.686               318           1          0   \n",
       "4      AHG32084.1      99.371               318           2          0   \n",
       "\n",
       "   q. start  q. end  s. start  s. end  evalue  bit score  % positives  bonds  \\\n",
       "0         1     318         1     318       0        629       100.00   1487   \n",
       "1         1     318         1     318       0        629       100.00  17947   \n",
       "2         1     318         1     318       0        627       100.00  12106   \n",
       "3         1     318         1     318       0        627        99.69   2319   \n",
       "4         1     318         1     318       0        627       100.00  18964   \n",
       "\n",
       "   publications placeholder Protein source  \n",
       "0           9.0         NaN         RefSeq  \n",
       "1          47.0         NaN             NA  \n",
       "2          13.0         NaN        GenPept  \n",
       "3          41.0         NaN             NA  \n",
       "4           3.0         NaN             NA  "
      ]
     },
     "execution_count": 20,
     "metadata": {},
     "output_type": "execute_result"
    }
   ],
   "source": [
    "### Your code here . . .\n",
    "protein_source_df = pd.read_csv(\"https://raw.githubusercontent.com/csbfx/advpy122-data/master/protein_source.csv\")\n",
    "\n",
    "merged_data = raw_blast_data.merge(\n",
    "    protein_source_df,\n",
    "    left_on=\"subject acc.ver\",\n",
    "    right_on=\"Protein\",\n",
    "    how=\"left\"\n",
    ")\n",
    "\n",
    "\n",
    "merged_data.rename(columns={'Source': 'Protein source'}, inplace=True)\n",
    "merged_data.drop(columns=[\"Protein\", \"Unnamed: 0\"], inplace=True)\n",
    "merged_data['Protein source'].fillna('NA', inplace=True)\n",
    "merged_data.head()"
   ]
  }
 ],
 "metadata": {
  "colab": {
   "provenance": []
  },
  "kernelspec": {
   "display_name": "Python 3",
   "language": "python",
   "name": "python3"
  },
  "language_info": {
   "codemirror_mode": {
    "name": "ipython",
    "version": 3
   },
   "file_extension": ".py",
   "mimetype": "text/x-python",
   "name": "python",
   "nbconvert_exporter": "python",
   "pygments_lexer": "ipython3",
   "version": "3.12.0"
  }
 },
 "nbformat": 4,
 "nbformat_minor": 0
}
