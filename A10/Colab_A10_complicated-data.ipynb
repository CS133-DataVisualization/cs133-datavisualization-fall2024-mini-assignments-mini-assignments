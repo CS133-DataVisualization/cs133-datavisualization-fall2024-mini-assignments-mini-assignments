{
 "cells": [
  {
   "cell_type": "markdown",
   "metadata": {
    "id": "-AqiLKPR3r6d"
   },
   "source": [
    "# Working with complicated dataset"
   ]
  },
  {
   "cell_type": "markdown",
   "metadata": {
    "id": "uZ0oeT3-S5iq"
   },
   "source": [
    "Your name:Hishaam Ghayas"
   ]
  },
  {
   "cell_type": "markdown",
   "metadata": {
    "id": "tio0jU9Y3r6h"
   },
   "source": [
    "### Question 1\n",
    "\n",
    "blast_results: https://raw.githubusercontent.com/csbfx/advpy122-data/master/blast_results.csv\n",
    "\n",
    "Read in the data from the csv file above. Skip all the comment lines, create a header for the dataframe based on the fields list in the comment line that starts with **# Fields:**. Drop the first column `query acc.ver`. Set the `subject acc.ver` as the index of the dataframe. The last column of the dataframe should be `publications`. Show the first five rows of the resulting dataframe."
   ]
  },
  {
   "cell_type": "code",
   "execution_count": 6,
   "metadata": {
    "id": "zkhws8KT3r6i"
   },
   "outputs": [
    {
     "name": "stdout",
     "output_type": "stream",
     "text": [
      "                 % identity  alignment length  mismatches  gap opens  \\\n",
      "subject acc.ver                                                        \n",
      "NaN                     NaN               NaN         NaN        NaN   \n",
      "NP_904328.1         100.000             318.0         0.0        0.0   \n",
      "AGK29621.1           99.686             318.0         1.0        0.0   \n",
      "YP_220563.1          99.686             318.0         1.0        0.0   \n",
      "ACM24502.1           99.686             318.0         1.0        0.0   \n",
      "\n",
      "                 q. start  q. end  s. start  s. end  evalue  bit score  \\\n",
      "subject acc.ver                                                          \n",
      "NaN                   NaN     NaN       NaN     NaN     NaN        NaN   \n",
      "NP_904328.1           1.0   318.0       1.0   318.0     0.0      629.0   \n",
      "AGK29621.1            1.0   318.0       1.0   318.0     0.0      629.0   \n",
      "YP_220563.1           1.0   318.0       1.0   318.0     0.0      627.0   \n",
      "ACM24502.1            1.0   318.0       1.0   318.0     0.0      627.0   \n",
      "\n",
      "                 % positives     bonds publications  \n",
      "subject acc.ver                                      \n",
      "NaN                      NaN       NaN          NaN  \n",
      "NP_904328.1           100.00    1,487             9  \n",
      "AGK29621.1            100.00   17,947            47  \n",
      "YP_220563.1           100.00   12,106            13  \n",
      "ACM24502.1             99.69    2,319            41  \n"
     ]
    }
   ],
   "source": [
    "import pandas as pd\n",
    "\n",
    "# URL for the BLAST results\n",
    "BLAST_URL = \"https://raw.githubusercontent.com/csbfx/advpy122-data/master/blast_results.csv\"\n",
    "\n",
    "# Read the file and skip comment lines\n",
    "data = pd.read_csv(\n",
    "    BLAST_URL,\n",
    "    comment=\"#\",\n",
    "    header=None\n",
    ")\n",
    "\n",
    "# Adjust the fields to match the number of columns in the dataset\n",
    "fields = [\n",
    "    \"query acc.ver\", \"subject acc.ver\", \"% identity\", \"alignment length\",\n",
    "    \"mismatches\", \"gap opens\", \"q. start\", \"q. end\", \"s. start\", \"s. end\",\n",
    "    \"evalue\", \"bit score\", \"% positives\", \"bonds\", \"publications\", \"extra\"\n",
    "]\n",
    "\n",
    "# Assign column names\n",
    "data.columns = fields\n",
    "\n",
    "# Drop the extra column and the \"query acc.ver\" column\n",
    "data = data.drop(columns=[\"extra\", \"query acc.ver\"])\n",
    "\n",
    "# Set \"subject acc.ver\" as the index\n",
    "data = data.set_index(\"subject acc.ver\")\n",
    "\n",
    "# Show the first five rows of the resulting DataFrame\n",
    "print(data.head())\n"
   ]
  },
  {
   "cell_type": "markdown",
   "metadata": {
    "id": "aHNeMncr3r6j"
   },
   "source": [
    "### Question 2\n",
    "What is the average number of publications?"
   ]
  },
  {
   "cell_type": "code",
   "execution_count": 7,
   "metadata": {
    "id": "Q1JK-hYw3r6j"
   },
   "outputs": [
    {
     "data": {
      "text/plain": [
       "np.float64(26.989690721649485)"
      ]
     },
     "execution_count": 7,
     "metadata": {},
     "output_type": "execute_result"
    }
   ],
   "source": [
    "import pandas as pd\n",
    "\n",
    "# URL for the BLAST results\n",
    "BLAST_URL = \"https://raw.githubusercontent.com/csbfx/advpy122-data/master/blast_results.csv\"\n",
    "\n",
    "# Read the file and skip comment lines\n",
    "data = pd.read_csv(\n",
    "    BLAST_URL,\n",
    "    comment=\"#\",\n",
    "    header=None\n",
    ")\n",
    "\n",
    "# Adjust the fields to match the number of columns in the dataset\n",
    "fields = [\n",
    "    \"query acc.ver\", \"subject acc.ver\", \"% identity\", \"alignment length\",\n",
    "    \"mismatches\", \"gap opens\", \"q. start\", \"q. end\", \"s. start\", \"s. end\",\n",
    "    \"evalue\", \"bit score\", \"% positives\", \"bonds\", \"publications\", \"extra\"\n",
    "]\n",
    "\n",
    "# Assign column names\n",
    "data.columns = fields\n",
    "\n",
    "# Drop the extra column and the \"query acc.ver\" column\n",
    "data = data.drop(columns=[\"extra\", \"query acc.ver\"])\n",
    "\n",
    "# Set \"subject acc.ver\" as the index\n",
    "data = data.set_index(\"subject acc.ver\")\n",
    "\n",
    "# Convert the \"publications\" column to numeric, handling any non-numeric entries\n",
    "data[\"publications\"] = pd.to_numeric(data[\"publications\"], errors=\"coerce\")\n",
    "\n",
    "# Calculate the average number of publications\n",
    "average_publications = data[\"publications\"].mean()\n",
    "\n",
    "average_publications\n"
   ]
  },
  {
   "cell_type": "markdown",
   "metadata": {
    "id": "r4gRR96y3r6k"
   },
   "source": [
    "### Question 3\n",
    "List the `subject acc.ver` that has over 15,000 bonds."
   ]
  },
  {
   "cell_type": "code",
   "execution_count": 8,
   "metadata": {
    "id": "pLKiddab3r6k"
   },
   "outputs": [
    {
     "name": "stdout",
     "output_type": "stream",
     "text": [
      "[]\n"
     ]
    }
   ],
   "source": [
    "### Your code here . . .\n",
    "# Convert the \"bonds\" column to numeric, handling non-numeric entries\n",
    "data[\"bonds\"] = pd.to_numeric(data[\"bonds\"], errors=\"coerce\")\n",
    "\n",
    "# Filter for rows where bonds are greater than 15,000\n",
    "high_bonds = data[data[\"bonds\"] > 15000]\n",
    "\n",
    "# List the subject acc.ver with over 15,000 bonds\n",
    "high_bonds_list = high_bonds.index.tolist()\n",
    "\n",
    "print(high_bonds_list)\n"
   ]
  },
  {
   "cell_type": "code",
   "execution_count": 9,
   "metadata": {},
   "outputs": [
    {
     "name": "stdout",
     "output_type": "stream",
     "text": [
      "[nan]\n"
     ]
    }
   ],
   "source": [
    "# Display the unique values in the \"bonds\" column\n",
    "print(data[\"bonds\"].unique())\n"
   ]
  },
  {
   "cell_type": "markdown",
   "metadata": {
    "id": "H56QTFYU3r6l"
   },
   "source": [
    "### Question 4\n",
    "Create a plot that shows the correlation between `% identity` and `% positives`."
   ]
  },
  {
   "cell_type": "code",
   "execution_count": 10,
   "metadata": {
    "id": "YD3IBzmG3r6l"
   },
   "outputs": [
    {
     "data": {
      "image/png": "[encoded data removed]",
      "text/plain": [
       "<Figure size 800x600 with 1 Axes>"
      ]
     },
     "metadata": {},
     "output_type": "display_data"
    }
   ],
   "source": [
    "import matplotlib.pyplot as plt\n",
    "\n",
    "# Ensure \"% identity\" and \"% positives\" columns are numeric\n",
    "data[\"% identity\"] = pd.to_numeric(data[\"% identity\"], errors=\"coerce\")\n",
    "data[\"% positives\"] = pd.to_numeric(data[\"% positives\"], errors=\"coerce\")\n",
    "\n",
    "# Create a scatter plot to show the correlation\n",
    "plt.figure(figsize=(8, 6))\n",
    "plt.scatter(data[\"% identity\"], data[\"% positives\"], alpha=0.7, edgecolor=\"k\")\n",
    "plt.title(\"Correlation Between % Identity and % Positives\", fontsize=14)\n",
    "plt.xlabel(\"% Identity\", fontsize=12)\n",
    "plt.ylabel(\"% Positives\", fontsize=12)\n",
    "plt.grid(True, linestyle=\"--\", alpha=0.6)\n",
    "plt.tight_layout()\n",
    "plt.show()\n"
   ]
  },
  {
   "cell_type": "markdown",
   "metadata": {
    "id": "pEUJxhad3r6m"
   },
   "source": [
    "### Question  5\n",
    "Add a column `Protein source` to the dataframe from Question 1 based on the data in this csv file: https://raw.githubusercontent.com/csbfx/advpy122-data/master/protein_source.csv. Merge the data when the `subject acc.ver` from the dataframe equals to `Protein` in the csv file. Entries without a matching protein will have `NA` as `Protein source`."
   ]
  },
  {
   "cell_type": "code",
   "execution_count": 11,
   "metadata": {
    "id": "xzIwyECv3r6m"
   },
   "outputs": [
    {
     "name": "stdout",
     "output_type": "stream",
     "text": [
      "                 % identity  alignment length  mismatches  gap opens  \\\n",
      "subject acc.ver                                                        \n",
      "NaN                     NaN               NaN         NaN        NaN   \n",
      "NP_904328.1         100.000             318.0         0.0        0.0   \n",
      "AGK29621.1           99.686             318.0         1.0        0.0   \n",
      "YP_220563.1          99.686             318.0         1.0        0.0   \n",
      "ACM24502.1           99.686             318.0         1.0        0.0   \n",
      "\n",
      "                 q. start  q. end  s. start  s. end  evalue  bit score  \\\n",
      "subject acc.ver                                                          \n",
      "NaN                   NaN     NaN       NaN     NaN     NaN        NaN   \n",
      "NP_904328.1           1.0   318.0       1.0   318.0     0.0      629.0   \n",
      "AGK29621.1            1.0   318.0       1.0   318.0     0.0      629.0   \n",
      "YP_220563.1           1.0   318.0       1.0   318.0     0.0      627.0   \n",
      "ACM24502.1            1.0   318.0       1.0   318.0     0.0      627.0   \n",
      "\n",
      "                 % positives  bonds  publications  Unnamed: 0   Source  \n",
      "subject acc.ver                                                         \n",
      "NaN                      NaN    NaN           NaN         NaN      NaN  \n",
      "NP_904328.1           100.00    NaN           9.0         0.0   RefSeq  \n",
      "AGK29621.1            100.00    NaN          47.0         NaN      NaN  \n",
      "YP_220563.1           100.00    NaN          13.0         2.0  GenPept  \n",
      "ACM24502.1             99.69    NaN          41.0         NaN      NaN  \n"
     ]
    }
   ],
   "source": [
    "# URL for the protein source data\n",
    "PROTEIN_SOURCE_URL = \"https://raw.githubusercontent.com/csbfx/advpy122-data/master/protein_source.csv\"\n",
    "\n",
    "# Load the protein source data\n",
    "protein_source_data = pd.read_csv(PROTEIN_SOURCE_URL)\n",
    "\n",
    "# Merge the protein source data with the existing dataframe\n",
    "merged_data = data.reset_index().merge(\n",
    "    protein_source_data,\n",
    "    how=\"left\",\n",
    "    left_on=\"subject acc.ver\",\n",
    "    right_on=\"Protein\"\n",
    ")\n",
    "\n",
    "# Drop the redundant \"Protein\" column after merging and set index back\n",
    "merged_data = merged_data.drop(columns=[\"Protein\"]).set_index(\"subject acc.ver\")\n",
    "\n",
    "# Show the first five rows of the merged dataframe\n",
    "print(merged_data.head())\n"
   ]
  },
  {
   "cell_type": "code",
   "execution_count": null,
   "metadata": {},
   "outputs": [],
   "source": []
  }
 ],
 "metadata": {
  "colab": {
   "provenance": [
    {
     "file_id": "1mT0d5EQ_JnPEsGnthjkQoWvSvD3Pp3Pk",
     "timestamp": 1728485484043
    }
   ]
  },
  "kernelspec": {
   "display_name": "Python 3 (ipykernel)",
   "language": "python",
   "name": "python3"
  },
  "language_info": {
   "codemirror_mode": {
    "name": "ipython",
    "version": 3
   },
   "file_extension": ".py",
   "mimetype": "text/x-python",
   "name": "python",
   "nbconvert_exporter": "python",
   "pygments_lexer": "ipython3",
   "version": "3.10.7"
  }
 },
 "nbformat": 4,
 "nbformat_minor": 4
}
