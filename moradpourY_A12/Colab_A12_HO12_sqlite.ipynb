{
  "cells": [
    {
      "cell_type": "markdown",
      "metadata": {
        "id": "ZgULxg_0AuZL"
      },
      "source": [
        "###**Q1**.  Use [Lucidchart](https://sjsu.edu/it/services/applications/lucidchart.php) to create an Entity Relationship Diagram (ERD) for the following tables representing a customer order tracking system:\n",
        "\n",
        "Tables and fields:\n",
        "1. product:\n",
        "    - product_id: INTEGER (Primary key)\n",
        "    - name: TEXT not null\n",
        "    - price: REAL\n",
        "\n",
        "\n",
        "2. customer:\n",
        "    - customer_id: INTEGER (Primary key)\n",
        "    - name: TEXT not null\n",
        "    - email: TEXT not null\n",
        "\n",
        "\n",
        "3. purchase_order:\n",
        "    - order_id: INTEGER (Primary key)\n",
        "    - customer_id: INTEGER (Foreign key)\n",
        "    - date: TEXT not null (\"YYYY-MM-DD\")\n",
        "\n",
        "\n",
        "4. order_item:\n",
        "    - order_id: INTEGER (Foreign key)\n",
        "    - product_id: INTEGER (Foreign key)\n",
        "    - quantity: INTEGER\n",
        "    \n",
        "\n",
        "\n",
        "Export the ERD as PDF and submit it in Canvas."
      ]
    },
    {
      "cell_type": "markdown",
      "metadata": {
        "id": "PZJtgMx7AuZO"
      },
      "source": [
        "###**Q2**. Create SQLite tables and load data\n",
        "1. Here are the csv files for the data for the four tables:\n",
        "   - product: https://raw.githubusercontent.com/csbfx/cs133/main/product.csv\n",
        "   - customer: https://raw.githubusercontent.com/csbfx/cs133/main/customer.csv\n",
        "   - order_item: https://raw.githubusercontent.com/csbfx/cs133/main/order_item.csv\n",
        "   - purchase_order: https://raw.githubusercontent.com/csbfx/cs133/main/purchase_order.csv\n",
        "2. In this notebook, create the database and save it in a file called `store.db`, and create the four tables as described above.\n",
        "3. Load the data in the csv files into the corresponding table.\n",
        "4. Commit so that the data loaded to the tables to officially written to the tables.\n",
        "5. Execute a query SELECT * from each table to make sure the data are properly loaded.\n",
        "6. Execute a query using SELECT statement that queries with JOIN tables to find the purchase date, the products and quantities that a particular customer has purchased."
      ]
    },
    {
      "cell_type": "code",
      "source": [
        "import pandas as pd\n",
        "import sqlite3\n"
      ],
      "metadata": {
        "id": "HQ1mMweTQB6e"
      },
      "execution_count": 45,
      "outputs": []
    },
    {
      "cell_type": "code",
      "execution_count": 46,
      "metadata": {
        "id": "w4xnppG8AuZP",
        "colab": {
          "base_uri": "https://localhost:8080/"
        },
        "outputId": "4a514484-c6e5-4bd7-82e7-b291d0d5a957"
      },
      "outputs": [
        {
          "output_type": "execute_result",
          "data": {
            "text/plain": [
              "<sqlite3.Cursor at 0x7a8f1c3cd7c0>"
            ]
          },
          "metadata": {},
          "execution_count": 46
        }
      ],
      "source": [
        "# 2.2 Create the database and save it in a file called store.db, and create the four tables as described above.\n",
        "# Your code here . . .\n",
        "conn = sqlite3.connect(\"/content/store.db\")\n",
        "cursor = conn.cursor()\n",
        "cursor.execute('''CREATE TABLE product (\n",
        "    product_id INTEGER PRIMARY KEY,\n",
        "    name TEXT NOT NULL,\n",
        "    price REAL\n",
        ")\n",
        "''')\n",
        "cursor.execute('''CREATE TABLE customer (\n",
        "    customer_id INTEGER PRIMARY KEY,\n",
        "    name TEXT NOT NULL,\n",
        "    email TEXT NOT NULL\n",
        ")\n",
        "''')\n",
        "cursor.execute('''CREATE TABLE purchase_order (\n",
        "    order_id INTEGER PRIMARY KEY,\n",
        "    customer_id INTEGER,\n",
        "    date TEXT NOT NULL,\n",
        "    FOREIGN KEY (customer_id) REFERENCES customer(customer_id)\n",
        ")\n",
        "''')\n",
        "cursor.execute('''CREATE TABLE order_item (\n",
        "    order_id INTEGER,\n",
        "    product_id INTEGER,\n",
        "    quantity INTEGER,\n",
        "    FOREIGN KEY (order_id) REFERENCES purchase_order(order_id),\n",
        "    FOREIGN KEY (product_id) REFERENCES product(product_id)\n",
        ")\n",
        "''')"
      ]
    },
    {
      "cell_type": "code",
      "source": [
        "# 2.3 Load the data in the csv files into the corresponding table.\n",
        "# Your code here . . .\n",
        "prod_data = pd.read_csv('https://raw.githubusercontent.com/csbfx/cs133/main/product.csv')\n",
        "customer_data = pd.read_csv('https://raw.githubusercontent.com/csbfx/cs133/main/customer.csv')\n",
        "order_item_data = pd.read_csv('https://raw.githubusercontent.com/csbfx/cs133/main/order_item.csv')\n",
        "purchase_data = pd.read_csv('https://raw.githubusercontent.com/csbfx/cs133/main/purchase_order.csv')"
      ],
      "metadata": {
        "id": "WPRhy-dSBY-c"
      },
      "execution_count": 47,
      "outputs": []
    },
    {
      "cell_type": "code",
      "source": [
        "# 2.4 Commit so that the data loaded to the tables to officially written to the tables.\n",
        "# Your code here . . .\n",
        "prod_data.to_sql('product', conn, if_exists='append', index=False)\n",
        "customer_data.to_sql('customer', conn, if_exists='append', index=False)\n",
        "order_item_data.to_sql('order_item', conn, if_exists='append', index=False)\n",
        "purchase_data.to_sql('purchase_order', conn, if_exists='append', index=False)"
      ],
      "metadata": {
        "id": "VIBaGXPABbVO",
        "colab": {
          "base_uri": "https://localhost:8080/"
        },
        "outputId": "6c3c8727-57bb-46a3-ed82-98f480095916"
      },
      "execution_count": 48,
      "outputs": [
        {
          "output_type": "execute_result",
          "data": {
            "text/plain": [
              "3"
            ]
          },
          "metadata": {},
          "execution_count": 48
        }
      ]
    },
    {
      "cell_type": "code",
      "source": [
        "# 2.5 Execute a query SELECT * from each table to make sure the data are properly loaded.\n",
        "# Your code here . . .\n",
        "rows = cursor.execute(\"SELECT * FROM product\").fetchall()\n",
        "print('data from product table')\n",
        "for row in rows:\n",
        "  print(row)\n",
        "\n",
        "\n",
        "data = cursor.execute(\"SELECT * FROM customer\").fetchall()\n",
        "print('data from customer table')\n",
        "for row in data:\n",
        "  print(row)\n",
        "\n",
        "\n",
        "data = cursor.execute(f\"SELECT * FROM purchase_order\").fetchall()\n",
        "print('data from purchase_order table')\n",
        "for row in data:\n",
        "  print(row)\n",
        "\n",
        "data = cursor.execute(f\"SELECT * FROM order_item\").fetchall()\n",
        "print('data from order_items table')\n",
        "for row in data:\n",
        "  print(row)\n",
        "\n",
        "\n",
        "\n"
      ],
      "metadata": {
        "id": "wPHFswfYBgan",
        "colab": {
          "base_uri": "https://localhost:8080/"
        },
        "outputId": "89026c89-43e6-498b-a889-22778ec9f4b0"
      },
      "execution_count": 49,
      "outputs": [
        {
          "output_type": "stream",
          "name": "stdout",
          "text": [
            "data from product table\n",
            "(0, 'bicycle', 400.0)\n",
            "(1, 'helmet', 45.0)\n",
            "(2, 'gloves', 23.0)\n",
            "(3, 'chain', 48.0)\n",
            "data from customer table\n",
            "(0, 'Wendy Lee', 'wlee@bike.com')\n",
            "(1, 'Jason Brown', 'jb@speed.com')\n",
            "(2, 'Harry Potter', 'hp@hogwarts.edu')\n",
            "(3, 'Godric Gryffindor', 'gg@hogwards.edu')\n",
            "data from purchase_order table\n",
            "(0, 0, '2020-10-19')\n",
            "(1, 0, '2020-10-20')\n",
            "(2, 1, '2020-10-20')\n",
            "data from order_items table\n",
            "(0, 0, 1)\n",
            "(0, 1, 1)\n",
            "(1, 2, 2)\n",
            "(1, 3, 1)\n"
          ]
        }
      ]
    },
    {
      "cell_type": "code",
      "source": [
        "# 2.6 Execute a query using SELECT statement that queries with JOIN tables to find the purchase date,\n",
        "#    the products and quantities that a particular customer has purchased.\n",
        "# Query 1: ???\n",
        "customer_id = 1\n",
        "query = '''\n",
        "SELECT purchase_order.date, product.name, order_item.quantity\n",
        "FROM purchase_order\n",
        "JOIN order_item ON purchase_order.order_id = order_item.order_id\n",
        "JOIN product ON order_item.product_id = product.product_id\n",
        "WHERE purchase_order.customer_id = ?\n",
        "'''\n",
        "results = cursor.execute(query, (customer_id,)).fetchall()\n",
        "for result in results:\n",
        "    print(result)\n"
      ],
      "metadata": {
        "id": "armxZeMPBmSe"
      },
      "execution_count": 50,
      "outputs": []
    },
    {
      "cell_type": "code",
      "source": [
        "cursor.execute(\"INSERT INTO order_item (order_id, product_id, quantity) VALUES (?, ?, ?)\", (2, 0, 1))\n",
        "conn.commit()"
      ],
      "metadata": {
        "id": "kEqj8c-agc4F"
      },
      "execution_count": 51,
      "outputs": []
    },
    {
      "cell_type": "code",
      "source": [
        "query = '''\n",
        "SELECT purchase_order.date, product.name, order_item.quantity\n",
        "FROM purchase_order\n",
        "JOIN order_item ON purchase_order.order_id = order_item.order_id\n",
        "JOIN product ON order_item.product_id = product.product_id\n",
        "WHERE purchase_order.customer_id = ?\n",
        "'''\n",
        "results = cursor.execute(query, (1,)).fetchall()\n",
        "print(\"Final results for customer_id = 1:\")\n",
        "for result in results:\n",
        "    print(result)"
      ],
      "metadata": {
        "colab": {
          "base_uri": "https://localhost:8080/"
        },
        "id": "XTTbmQZxgEsh",
        "outputId": "329f8192-bca8-41c2-f204-b750fe2cc319"
      },
      "execution_count": 52,
      "outputs": [
        {
          "output_type": "stream",
          "name": "stdout",
          "text": [
            "Final results for customer_id = 1:\n",
            "('2020-10-20', 'bicycle', 1)\n"
          ]
        }
      ]
    },
    {
      "cell_type": "code",
      "source": [
        "# Query 2: ???\n",
        "# Your code here . . .\n",
        "product_name = 'gloves'\n",
        "query_2 = '''\n",
        "SELECT customer.name, customer.email, product.name, order_item.quantity, purchase_order.date\n",
        "FROM customer\n",
        "JOIN purchase_order ON customer.customer_id = purchase_order.customer_id\n",
        "JOIN order_item ON purchase_order.order_id = order_item.order_id\n",
        "JOIN product ON order_item.product_id = product.product_id\n",
        "WHERE product.name = ?\n",
        "'''\n",
        "results_2 = cursor.execute(query_2, (product_name,)).fetchall()\n",
        "print(f\"Results for customers who purchased '{product_name}':\")\n",
        "for result in results_2:\n",
        "    print(result)"
      ],
      "metadata": {
        "colab": {
          "base_uri": "https://localhost:8080/"
        },
        "id": "BbgzMegjflV0",
        "outputId": "b1bfd5c0-6650-46a9-db0c-47bd013fefe6"
      },
      "execution_count": 53,
      "outputs": [
        {
          "output_type": "stream",
          "name": "stdout",
          "text": [
            "Results for customers who purchased 'gloves':\n",
            "('Wendy Lee', 'wlee@bike.com', 'gloves', 2, '2020-10-20')\n"
          ]
        }
      ]
    },
    {
      "cell_type": "code",
      "source": [
        "# Additional tasks\n",
        "# Appending a new row to one of the tables\n",
        "cursor.execute(\"INSERT INTO product (product_id, name, price) VALUES (?, ?, ?)\", (4, 'chair', 19.99))\n",
        "conn.commit()\n",
        "\n"
      ],
      "metadata": {
        "id": "h17Hwcs5jvoA"
      },
      "execution_count": 54,
      "outputs": []
    },
    {
      "cell_type": "code",
      "source": [
        "rows = cursor.execute(\"SELECT * FROM product\").fetchall()\n",
        "print('data from product table')\n",
        "for row in rows:\n",
        "  print(row)"
      ],
      "metadata": {
        "colab": {
          "base_uri": "https://localhost:8080/"
        },
        "id": "s4HcMXmPhCbQ",
        "outputId": "42832f6c-efe6-4a18-a762-8131593b937e"
      },
      "execution_count": 55,
      "outputs": [
        {
          "output_type": "stream",
          "name": "stdout",
          "text": [
            "data from product table\n",
            "(0, 'bicycle', 400.0)\n",
            "(1, 'helmet', 45.0)\n",
            "(2, 'gloves', 23.0)\n",
            "(3, 'chain', 48.0)\n",
            "(4, 'chair', 19.99)\n"
          ]
        }
      ]
    },
    {
      "cell_type": "code",
      "source": [
        "# Deleting row(s) with \"XXX\"\n",
        "cursor.execute(\"DELETE FROM product WHERE name = ?\", ('chair',))\n",
        "conn.commit()"
      ],
      "metadata": {
        "id": "-u-lY7KshBPj"
      },
      "execution_count": 56,
      "outputs": []
    },
    {
      "cell_type": "code",
      "source": [
        "rows = cursor.execute(\"SELECT * FROM product\").fetchall()\n",
        "print('data from product table')\n",
        "for row in rows:\n",
        "  print(row)"
      ],
      "metadata": {
        "colab": {
          "base_uri": "https://localhost:8080/"
        },
        "id": "coIB4ry0g51Q",
        "outputId": "7d8382ee-4173-40b4-d22a-8afca8b1b40d"
      },
      "execution_count": 57,
      "outputs": [
        {
          "output_type": "stream",
          "name": "stdout",
          "text": [
            "data from product table\n",
            "(0, 'bicycle', 400.0)\n",
            "(1, 'helmet', 45.0)\n",
            "(2, 'gloves', 23.0)\n",
            "(3, 'chain', 48.0)\n"
          ]
        }
      ]
    }
  ],
  "metadata": {
    "kernelspec": {
      "display_name": "Python 3",
      "language": "python",
      "name": "python3"
    },
    "language_info": {
      "codemirror_mode": {
        "name": "ipython",
        "version": 3
      },
      "file_extension": ".py",
      "mimetype": "text/x-python",
      "name": "python",
      "nbconvert_exporter": "python",
      "pygments_lexer": "ipython3",
      "version": "3.7.6"
    },
    "colab": {
      "provenance": []
    }
  },
  "nbformat": 4,
  "nbformat_minor": 0
}